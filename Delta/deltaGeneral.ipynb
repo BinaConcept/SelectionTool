{
 "cells": [
  {
   "attachments": {},
   "cell_type": "markdown",
   "metadata": {},
   "source": [
    "### Mobotix AI\n",
    "\n",
    "Install http libary & ip"
   ]
  },
  {
   "cell_type": "code",
   "execution_count": 2,
   "metadata": {},
   "outputs": [
    {
     "name": "stdout",
     "output_type": "stream",
     "text": [
      "Requirement already satisfied: requests in c:\\users\\arsoft\\appdata\\local\\packages\\pythonsoftwarefoundation.python.3.9_qbz5n2kfra8p0\\localcache\\local-packages\\python39\\site-packages (2.26.0)\n",
      "Requirement already satisfied: urllib3<1.27,>=1.21.1 in c:\\users\\arsoft\\appdata\\local\\packages\\pythonsoftwarefoundation.python.3.9_qbz5n2kfra8p0\\localcache\\local-packages\\python39\\site-packages (from requests) (1.26.15)\n",
      "Requirement already satisfied: certifi>=2017.4.17 in c:\\users\\arsoft\\appdata\\local\\packages\\pythonsoftwarefoundation.python.3.9_qbz5n2kfra8p0\\localcache\\local-packages\\python39\\site-packages (from requests) (2021.5.30)\n",
      "Requirement already satisfied: charset-normalizer~=2.0.0 in c:\\users\\arsoft\\appdata\\local\\packages\\pythonsoftwarefoundation.python.3.9_qbz5n2kfra8p0\\localcache\\local-packages\\python39\\site-packages (from requests) (2.0.6)\n",
      "Requirement already satisfied: idna<4,>=2.5 in c:\\users\\arsoft\\appdata\\local\\packages\\pythonsoftwarefoundation.python.3.9_qbz5n2kfra8p0\\localcache\\local-packages\\python39\\site-packages (from requests) (3.2)\n"
     ]
    },
    {
     "name": "stderr",
     "output_type": "stream",
     "text": [
      "WARNING: Ignoring invalid distribution -rotobuf (c:\\users\\arsoft\\appdata\\local\\packages\\pythonsoftwarefoundation.python.3.9_qbz5n2kfra8p0\\localcache\\local-packages\\python39\\site-packages)\n",
      "WARNING: Ignoring invalid distribution -rotobuf (c:\\users\\arsoft\\appdata\\local\\packages\\pythonsoftwarefoundation.python.3.9_qbz5n2kfra8p0\\localcache\\local-packages\\python39\\site-packages)\n",
      "C:\\Users\\ArSoft\\AppData\\Local\\Packages\\PythonSoftwareFoundation.Python.3.9_qbz5n2kfra8p0\\LocalCache\\local-packages\\Python39\\site-packages\\requests\\__init__.py:102: RequestsDependencyWarning: urllib3 (1.26.15) or chardet (5.0.0)/charset_normalizer (2.0.6) doesn't match a supported version!\n",
      "  warnings.warn(\"urllib3 ({}) or chardet ({})/charset_normalizer ({}) doesn't match a supported \"\n"
     ]
    }
   ],
   "source": [
    "! pip install requests\n",
    "\n",
    "import requests\n",
    "#B11\n",
    "#ip='192.168.24.107'\n",
    "ip='192.168.0.11'\n",
    "headers = {'Content-type': 'application/json'}\n",
    "auth = ('admin','meinsm123')\n"
   ]
  },
  {
   "attachments": {},
   "cell_type": "markdown",
   "metadata": {},
   "source": [
    "Authenticator Mobotix AI"
   ]
  },
  {
   "attachments": {},
   "cell_type": "markdown",
   "metadata": {},
   "source": [
    "Admin menu"
   ]
  },
  {
   "cell_type": "code",
   "execution_count": null,
   "metadata": {},
   "outputs": [],
   "source": [
    "# admin sectionlist\n",
    "url='http://'+ip+'/admin/control?list'\n",
    "response = requests.get(url, auth=auth)\n",
    "data = response.text\n",
    "print(data)"
   ]
  },
  {
   "cell_type": "code",
   "execution_count": null,
   "metadata": {},
   "outputs": [],
   "source": [
    "#http://CamIP/control/rcontrol?list http://130.238.118.68/admin/remoteconfig\n",
    "url='http://'+ip+'/admin/remoteconfig'\n",
    "response = requests.get(url, auth=auth)\n",
    "data = response.text\n",
    "print(data)"
   ]
  },
  {
   "attachments": {},
   "cell_type": "markdown",
   "metadata": {},
   "source": [
    "Camera name"
   ]
  },
  {
   "cell_type": "code",
   "execution_count": null,
   "metadata": {},
   "outputs": [],
   "source": [
    "#http://<camera ip>/control/rcontrol?action=ledson&time=5\n",
    "url='http://'+ip+'/control/rcontrol?action=etherconfig&Camera_Name=tets'\n",
    "response = requests.get(url, headers=headers, auth=auth)\n",
    "data = response.text\n",
    "print(response)"
   ]
  },
  {
   "attachments": {},
   "cell_type": "markdown",
   "metadata": {},
   "source": [
    "Store"
   ]
  },
  {
   "cell_type": "code",
   "execution_count": null,
   "metadata": {},
   "outputs": [],
   "source": [
    "url='http://'+ip+'/admin/rcontrol?action=storeconfig'\n",
    "response = requests.get(url, headers=headers, auth=auth)\n",
    "data = response.text\n",
    "print(data)"
   ]
  },
  {
   "attachments": {},
   "cell_type": "markdown",
   "metadata": {},
   "source": [
    "Loading logo component"
   ]
  },
  {
   "cell_type": "code",
   "execution_count": null,
   "metadata": {},
   "outputs": [],
   "source": [
    "url='http://'+ip+'/admin/control?list&section=logo'\n",
    "response = requests.get(url, headers=headers, auth=auth)\n",
    "data = response.text\n",
    "print(data)"
   ]
  },
  {
   "attachments": {},
   "cell_type": "markdown",
   "metadata": {},
   "source": [
    "Home video logo enable/disable"
   ]
  },
  {
   "cell_type": "code",
   "execution_count": 3,
   "metadata": {},
   "outputs": [
    {
     "name": "stdout",
     "output_type": "stream",
     "text": [
      "<Response [200]>\n",
      "<Response [200]>\n",
      "http://192.168.0.11/admin/control?set&section=logo&display=enable\n"
     ]
    }
   ],
   "source": [
    "# Display enable or disable\n",
    "\n",
    "display='enable'\n",
    "#display='disable'\n",
    "url='http://'+ip+'/admin/control?set&section=logo&display='+display\n",
    "response = requests.get(url,auth=auth)\n",
    "print(response) \n",
    "print(requests.get(url,auth=auth))\n",
    "print(url)"
   ]
  },
  {
   "attachments": {},
   "cell_type": "markdown",
   "metadata": {},
   "source": [
    "Setup menu"
   ]
  },
  {
   "cell_type": "code",
   "execution_count": null,
   "metadata": {},
   "outputs": [],
   "source": []
  },
  {
   "attachments": {},
   "cell_type": "markdown",
   "metadata": {},
   "source": [
    "Setup-list"
   ]
  },
  {
   "cell_type": "code",
   "execution_count": 4,
   "metadata": {},
   "outputs": [
    {
     "name": "stdout",
     "output_type": "stream",
     "text": [
      "INF: These sections are available for remote configuration:\n",
      "INF:   imagecontrol\n",
      "INF:   eventcontrol\n",
      "INF:   exposurecontrol\n",
      "INF:   general\n",
      "INF:   exposure\n",
      "INF:   color\n",
      "INF:   jpeg\n",
      "INF:   text\n",
      "INF:   vptzcontrol\n",
      "INF:   thermal\n",
      "INF:   videomotionanalysis\n",
      "INF:   settings\n",
      "INF:   recording\n",
      "INF:   event_env\n",
      "INF:   event_ima\n",
      "INF:   event_int\n",
      "INF:   event_msg\n",
      "INF:   event_met\n",
      "INF:   event_sig\n",
      "INF:   event_tim\n",
      "INF:   actions\n",
      "INF:   actionhandler\n",
      "INF:   mxpegparam\n",
      "INF:   quickcontrol\n",
      "INF:   quickcontrolreset\n",
      "INF:   imageprogram\n",
      "INF:   audio\n",
      "INF: Use the following command to view parameters of a certain section.\n",
      "INF: command: \"list&section=<section name>\"\n",
      "\n"
     ]
    }
   ],
   "source": [
    "# admin sectionlist\n",
    "url='http://'+ip+'/control/control?list'\n",
    "response = requests.get(url, headers=headers, auth=auth)\n",
    "data = response.text\n",
    "print(data)"
   ]
  },
  {
   "attachments": {},
   "cell_type": "markdown",
   "metadata": {},
   "source": [
    "Change Image analysis events"
   ]
  },
  {
   "cell_type": "code",
   "execution_count": null,
   "metadata": {},
   "outputs": [],
   "source": [
    "url='http://'+ip+'/control/control?list&section=general'\n",
    "response = requests.get(url, headers=headers, auth=auth)\n",
    "data = response.text\n",
    "print(data)"
   ]
  },
  {
   "attachments": {},
   "cell_type": "markdown",
   "metadata": {},
   "source": [
    "url='http://'+ip+'/control/control?section=event_ima&ima'\n",
    "response = requests.get(url, headers=headers, auth=auth)\n",
    "data = response.text\n",
    "print(data)"
   ]
  },
  {
   "attachments": {},
   "cell_type": "markdown",
   "metadata": {},
   "source": [
    "Load all object image name"
   ]
  },
  {
   "cell_type": "code",
   "execution_count": 5,
   "metadata": {},
   "outputs": [
    {
     "name": "stdout",
     "output_type": "stream",
     "text": [
      "ima=VM:_profilename=VM:ima_dead=5:ima_sens=vm:activity_level=33:activity_area=0,0,0,1280,960:activity_directions=Left;Right;Up;Down:ot_type=corridor:ot_corridor_list=:ot_time_value=30:ot_speed_value=4:ot_restricted_area=0,0,0,1280,960:ot_restricted_area_color=0xFFFF00:ot_restricted_area_transparency=70:vm_list=1\n",
      "ima=VM2:_profilename=VM2:ima_dead=5:ima_sens=vm:activity_level=33:activity_area=0,0,0,1280,960:activity_directions=Left;Right;Up;Down:ot_type=corridor:ot_corridor_list=:ot_time_value=30:ot_speed_value=4:ot_restricted_area=0,0,0,1280,960:ot_restricted_area_color=0xFFFF00:ot_restricted_area_transparency=70:vm_list=2,3\n",
      "ima=AS:_profilename=AS:ima_dead=5:ima_sens=as:activity_level=33:activity_area=0,0,0,1280,960%0A0,103,21,1070,900:activity_directions=Left;Right;Up;Down:ot_type=corridor:ot_corridor_list=:ot_time_value=30:ot_speed_value=4:ot_restricted_area=0,0,0,1280,960:ot_restricted_area_color=0xFFFF00:ot_restricted_area_transparency=70:vm_list=\n",
      "ima=ima_63dce9e3:_profilestate=i:_profilename=Sevgi:ima_dead=5:ima_sens=vm:activity_level=33:activity_area=:activity_directions=Left;Right;Up;Down:ot_type=corridor:ot_corridor_list=:ot_time_value=30:ot_speed_value=4:ot_restricted_area=0,0,0,1280,960:ot_restricted_area_color=0xFFFF00:ot_restricted_area_transparency=70:vm_list=1\n",
      "\n"
     ]
    },
    {
     "ename": "",
     "evalue": "",
     "output_type": "error",
     "traceback": [
      "\u001b[1;31mThe Kernel crashed while executing code in the the current cell or a previous cell. Please review the code in the cell(s) to identify a possible cause of the failure. Click <a href='https://aka.ms/vscodeJupyterKernelCrash'>here</a> for more info. View Jupyter <a href='command:jupyter.viewOutput'>log</a> for further details."
     ]
    }
   ],
   "source": [
    "url='http://'+ip+'/control/control?read&section=event_ima&ima'\n",
    "response = requests.get(url, headers=headers, auth=auth)\n",
    "data = response.text\n",
    "print(data)\n"
   ]
  },
  {
   "attachments": {},
   "cell_type": "markdown",
   "metadata": {},
   "source": [
    "Change resolutions"
   ]
  },
  {
   "cell_type": "code",
   "execution_count": null,
   "metadata": {},
   "outputs": [],
   "source": [
    "# SETUP\n",
    "# Image control\n",
    "# General Image Setting\n",
    "arrRes= ['320x240', '640x480', '800x600', '1024x768', '1280x720', '1280x960', '1920x1080', '2048x1536', '2592x1944', '3072x2048', 'customize']\n",
    "resolutions=arrRes[3]\n",
    "url='http://'+ip+'/control/control?set&section=imagecontrol&size='+resolutions\n",
    "response = requests.get(url, headers=headers, auth=auth)\n",
    "print(response)"
   ]
  },
  {
   "attachments": {},
   "cell_type": "markdown",
   "metadata": {},
   "source": [
    "Create motion line"
   ]
  },
  {
   "cell_type": "code",
   "execution_count": 3,
   "metadata": {},
   "outputs": [
    {
     "name": "stdout",
     "output_type": "stream",
     "text": [
      "<Response [200]>\n"
     ]
    }
   ],
   "source": [
    "# SETUP\n",
    "# Event control\n",
    "# Image analysis events\n",
    "# Edit\n",
    "# Video motion definitions motion_area=$noiseadjust=1%0A$postfilter=1%0A$limit=100%0A0,poly=693x796/967x587/920x254/571x218,a=5,am=90,s=0,id=2%0A\n",
    "size=['0,140,330,200,300,s=20,a=25,id=1,col=blue', '0,280,660,400,600,s=20,a=25,id=2,col=blue']\n",
    "url='http://'+ip+'/control/control?set&section=eventcontrol&motion_area='+size[1]\n",
    "response = requests.get(url, headers=headers, auth=auth)\n",
    "print(response)"
   ]
  },
  {
   "attachments": {},
   "cell_type": "markdown",
   "metadata": {},
   "source": [
    "Image out view (CGI parameters)"
   ]
  },
  {
   "cell_type": "code",
   "execution_count": null,
   "metadata": {},
   "outputs": [],
   "source": [
    "#circel image\n",
    "url='http://'+ip+'/record/current.jpg'\n",
    "response = requests.get(url, headers=headers, auth=auth)\n",
    "print(response)\n"
   ]
  },
  {
   "cell_type": "code",
   "execution_count": null,
   "metadata": {},
   "outputs": [],
   "source": [
    "#panoramische image\n",
    "url='http://'+ip+'/cgi-bin/image.jpg'\n",
    "response = requests.get(url, headers=headers, auth=auth)\n",
    "print(response)"
   ]
  },
  {
   "cell_type": "code",
   "execution_count": null,
   "metadata": {},
   "outputs": [],
   "source": [
    "#browser camera view\n",
    "#http://10.22.1.52/control/faststream.jpg?stream=full&preview&previewsize=320x240&quality=40&fps=4.0&camera=right\n",
    "url='http://'+ip+'/cgi-bin/faststream.jpg'\n",
    "response = requests.get(url, headers=headers, auth=auth)\n",
    "print(response)"
   ]
  },
  {
   "cell_type": "code",
   "execution_count": null,
   "metadata": {},
   "outputs": [],
   "source": [
    "#Message profiles\n",
    "url='http://'+ip+'/api/json/messages/global'\n",
    "response = requests.get(url, headers=headers, auth=auth)\n",
    "print(response)"
   ]
  }
 ],
 "metadata": {
  "kernelspec": {
   "display_name": "Python 3",
   "language": "python",
   "name": "python3"
  },
  "language_info": {
   "codemirror_mode": {
    "name": "ipython",
    "version": 3
   },
   "file_extension": ".py",
   "mimetype": "text/x-python",
   "name": "python",
   "nbconvert_exporter": "python",
   "pygments_lexer": "ipython3",
   "version": "3.9.13"
  },
  "orig_nbformat": 4,
  "vscode": {
   "interpreter": {
    "hash": "efc0f16f2a4cd47b402ccb23be0e3e56be1e6aa26099b86611c68d1241ae826d"
   }
  }
 },
 "nbformat": 4,
 "nbformat_minor": 2
}
