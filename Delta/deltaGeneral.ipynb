{
 "cells": [
  {
   "attachments": {},
   "cell_type": "markdown",
   "metadata": {},
   "source": [
    "### Mobotix AI\n",
    "\n",
    "Install http libary & ip"
   ]
  },
  {
   "cell_type": "code",
   "execution_count": 1,
   "metadata": {},
   "outputs": [
    {
     "name": "stdout",
     "output_type": "stream",
     "text": [
      "Requirement already satisfied: requests in c:\\users\\arsoft\\appdata\\local\\packages\\pythonsoftwarefoundation.python.3.9_qbz5n2kfra8p0\\localcache\\local-packages\\python39\\site-packages (2.26.0)\n",
      "Requirement already satisfied: urllib3<1.27,>=1.21.1 in c:\\users\\arsoft\\appdata\\local\\packages\\pythonsoftwarefoundation.python.3.9_qbz5n2kfra8p0\\localcache\\local-packages\\python39\\site-packages (from requests) (1.26.15)\n",
      "Requirement already satisfied: certifi>=2017.4.17 in c:\\users\\arsoft\\appdata\\local\\packages\\pythonsoftwarefoundation.python.3.9_qbz5n2kfra8p0\\localcache\\local-packages\\python39\\site-packages (from requests) (2022.12.7)\n",
      "Requirement already satisfied: charset-normalizer~=2.0.0 in c:\\users\\arsoft\\appdata\\local\\packages\\pythonsoftwarefoundation.python.3.9_qbz5n2kfra8p0\\localcache\\local-packages\\python39\\site-packages (from requests) (2.0.6)\n",
      "Requirement already satisfied: idna<4,>=2.5 in c:\\users\\arsoft\\appdata\\local\\packages\\pythonsoftwarefoundation.python.3.9_qbz5n2kfra8p0\\localcache\\local-packages\\python39\\site-packages (from requests) (2.10)\n"
     ]
    },
    {
     "name": "stderr",
     "output_type": "stream",
     "text": [
      "WARNING: Ignoring invalid distribution -rotobuf (c:\\users\\arsoft\\appdata\\local\\packages\\pythonsoftwarefoundation.python.3.9_qbz5n2kfra8p0\\localcache\\local-packages\\python39\\site-packages)\n",
      "WARNING: Ignoring invalid distribution -rotobuf (c:\\users\\arsoft\\appdata\\local\\packages\\pythonsoftwarefoundation.python.3.9_qbz5n2kfra8p0\\localcache\\local-packages\\python39\\site-packages)\n",
      "\n",
      "[notice] A new release of pip is available: 23.1.2 -> 23.2.1\n",
      "[notice] To update, run: C:\\Users\\ArSoft\\AppData\\Local\\Microsoft\\WindowsApps\\PythonSoftwareFoundation.Python.3.9_qbz5n2kfra8p0\\python.exe -m pip install --upgrade pip\n"
     ]
    }
   ],
   "source": [
    "! pip install requests\n",
    "\n",
    "import requests\n",
    "#B11\n",
    "#ip='192.168.24.107'\n",
    "ip='192.168.0.11'\n",
    "headers = {'Content-type': 'application/json'}\n",
    "auth = ('admin','meinsm123')\n"
   ]
  },
  {
   "attachments": {},
   "cell_type": "markdown",
   "metadata": {},
   "source": [
    "Authenticator Mobotix AI"
   ]
  },
  {
   "attachments": {},
   "cell_type": "markdown",
   "metadata": {},
   "source": [
    "Admin menu"
   ]
  },
  {
   "cell_type": "code",
   "execution_count": 2,
   "metadata": {},
   "outputs": [
    {
     "name": "stdout",
     "output_type": "stream",
     "text": [
      "INF: These sections are available for remote configuration:\n",
      "INF:   logo\n",
      "INF:   ipprofiles\n",
      "INF:   msgsysprofiles\n",
      "INF:   mailprofiles\n",
      "INF:   ftpprofiles\n",
      "INF:   phoneprofiles\n",
      "INF:   soundprofiles\n",
      "INF:   signaloutprofiles\n",
      "INF:   visalarm\n",
      "INF:   iowiring\n",
      "INF:   fileserver\n",
      "INF:   quickinstaller\n",
      "INF: Use the following command to view parameters of a certain section.\n",
      "INF: command: \"list&section=<section name>\"\n",
      "\n"
     ]
    }
   ],
   "source": [
    "# admin sectionlist\n",
    "url='http://'+ip+'/admin/control?list'\n",
    "response = requests.get(url, auth=auth)\n",
    "data = response.text\n",
    "print(data)"
   ]
  },
  {
   "cell_type": "code",
   "execution_count": 3,
   "metadata": {},
   "outputs": [
    {
     "name": "stdout",
     "output_type": "stream",
     "text": [
      "ERROR: Expect Data as POST request. Aborting!\n",
      "\n"
     ]
    }
   ],
   "source": [
    "#http://CamIP/control/rcontrol?list http://130.238.118.68/admin/remoteconfig\n",
    "url='http://'+ip+'/admin/remoteconfig'\n",
    "response = requests.get(url, auth=auth)\n",
    "data = response.text\n",
    "print(data)"
   ]
  },
  {
   "attachments": {},
   "cell_type": "markdown",
   "metadata": {},
   "source": [
    "Camera name"
   ]
  },
  {
   "cell_type": "code",
   "execution_count": 4,
   "metadata": {},
   "outputs": [
    {
     "name": "stdout",
     "output_type": "stream",
     "text": [
      "<Response [200]>\n"
     ]
    }
   ],
   "source": [
    "#http://<camera ip>/control/rcontrol?action=ledson&time=5\n",
    "url='http://'+ip+'/control/rcontrol?action=etherconfig&Camera_Name=tets'\n",
    "response = requests.get(url, headers=headers, auth=auth)\n",
    "data = response.text\n",
    "print(response)"
   ]
  },
  {
   "attachments": {},
   "cell_type": "markdown",
   "metadata": {},
   "source": [
    "Store"
   ]
  },
  {
   "cell_type": "code",
   "execution_count": null,
   "metadata": {},
   "outputs": [],
   "source": [
    "url='http://'+ip+'/admin/rcontrol?action=storeconfig'\n",
    "response = requests.get(url, headers=headers, auth=auth)\n",
    "data = response.text\n",
    "print(data)"
   ]
  },
  {
   "attachments": {},
   "cell_type": "markdown",
   "metadata": {},
   "source": [
    "Loading logo component"
   ]
  },
  {
   "cell_type": "code",
   "execution_count": null,
   "metadata": {},
   "outputs": [],
   "source": [
    "url='http://'+ip+'/admin/control?list&section=logo'\n",
    "response = requests.get(url, headers=headers, auth=auth)\n",
    "data = response.text\n",
    "print(data)"
   ]
  },
  {
   "attachments": {},
   "cell_type": "markdown",
   "metadata": {},
   "source": [
    "Home video logo enable/disable"
   ]
  },
  {
   "cell_type": "markdown",
   "metadata": {},
   "source": []
  },
  {
   "cell_type": "code",
   "execution_count": 9,
   "metadata": {},
   "outputs": [
    {
     "data": {
      "text/plain": [
       "<Response [200]>"
      ]
     },
     "execution_count": 9,
     "metadata": {},
     "output_type": "execute_result"
    }
   ],
   "source": [
    "# Display enable or disable\n",
    "\n",
    "# display='enable'\n",
    "display='disable'\n",
    "url='http://'+ip+'/admin/control?set&section=logo&display='+display\n",
    "requests.get(url,auth=auth)\n",
    "# print(response) \n",
    "# print(requests.get(url,auth=auth))\n",
    "# print(url)"
   ]
  },
  {
   "attachments": {},
   "cell_type": "markdown",
   "metadata": {},
   "source": [
    "Setup menu"
   ]
  },
  {
   "cell_type": "code",
   "execution_count": null,
   "metadata": {},
   "outputs": [],
   "source": []
  },
  {
   "attachments": {},
   "cell_type": "markdown",
   "metadata": {},
   "source": [
    "Setup-list"
   ]
  },
  {
   "cell_type": "code",
   "execution_count": 17,
   "metadata": {},
   "outputs": [
    {
     "name": "stdout",
     "output_type": "stream",
     "text": [
      "INF: These sections are available for remote configuration:\n",
      "INF:   imagecontrol\n",
      "INF:   eventcontrol\n",
      "INF:   exposurecontrol\n",
      "INF:   general\n",
      "INF:   exposure\n",
      "INF:   color\n",
      "INF:   jpeg\n",
      "INF:   text\n",
      "INF:   vptzcontrol\n",
      "INF:   thermal\n",
      "INF:   videomotionanalysis\n",
      "INF:   settings\n",
      "INF:   recording\n",
      "INF:   event_env\n",
      "INF:   event_ima\n",
      "INF:   event_int\n",
      "INF:   event_msg\n",
      "INF:   event_met\n",
      "INF:   event_sig\n",
      "INF:   event_tim\n",
      "INF:   actions\n",
      "INF:   actionhandler\n",
      "INF:   mxpegparam\n",
      "INF:   quickcontrol\n",
      "INF:   quickcontrolreset\n",
      "INF:   imageprogram\n",
      "INF:   audio\n",
      "INF: Use the following command to view parameters of a certain section.\n",
      "INF: command: \"list&section=<section name>\"\n",
      "\n"
     ]
    }
   ],
   "source": [
    "# admin sectionlist\n",
    "url='http://'+ip+'/control/control?list'\n",
    "response = requests.get(url, headers=headers, auth=auth)\n",
    "data = response.text\n",
    "print(data)"
   ]
  },
  {
   "attachments": {},
   "cell_type": "markdown",
   "metadata": {},
   "source": [
    "Change Image analysis events"
   ]
  },
  {
   "cell_type": "code",
   "execution_count": 27,
   "metadata": {},
   "outputs": [
    {
     "name": "stdout",
     "output_type": "stream",
     "text": [
      "INF: Showing section: 'eventcontrol'\n",
      "INF: \n",
      "INF: Read parameter:\n",
      "INF:   control?read&section=eventcontrol&<parameter>[&<parameter>]\n",
      "INF: \n",
      "INF: Set parameter:\n",
      "INF:   control?set&section=eventcontrol&<parameter>=<value>[&<parameter>=<value>]\n",
      "INF: \n",
      "INF: Special commands are available for some parameters.\n",
      "INF:   Available special commands are: toggle max min ++ -- +<n> -<n>\n",
      "INF:   Usage: <parameter>==<special command>\n",
      "#SECTION eventdlite\n",
      "tap_debounce=1                          # 1, 3, 5, 7, 9, 11, 13, 15\n",
      "motionhideunused=0                      # 1, 0\n",
      "motionwintype=highlight                 # off, on, highlight, passiv\n",
      "motionwinid=1                           # 1, 0\n",
      "motionreftime=1                         # 0 .. 30000 \n",
      "motionnightoff=0                        # 0, 1, 3, 6, 10, 18, 32, 56\n",
      "motion_area=motion_area=$noiseadjust=1%0A$postfilter=1%0A$limit=100%0A0,poly=507x341/721x569/834x206,a=5,am=90,s=0,id=2%0A0,poly=707x541/921x769/1034x406,a=5,am=90,s=0,id=3%0A # (encoded string constant) \n",
      "ima_as_fast_motion_stabilizer=0         # 1, 0\n",
      "ima_as_show_directions=0                # 1, 0\n",
      "ima_as_show_position=0                  # 1, 0\n",
      "ima_as_show_profile=                    # , AS\n",
      "ima_as_use_v2=0                         # 1, 0\n",
      "ima_as_use_perspective=0                # 1, 0\n",
      "ima_as_near_obj_size=@ @                # (string constant) \n",
      "ima_as_far_obj_size=@ @                 # (string constant) \n",
      "ima_as_min_obj_size=@ @                 # (string constant) \n",
      "ipreceiveport=8000                      # 1 .. 65536 \n",
      "softbutton1=1                           # 1, 0\n",
      "softbuttonname1=Speak IP                # (string constant) \n",
      "softbutton2=0                           # 1, 0\n",
      "softbuttonname2=Actions disable         # (string constant) \n",
      "edactiv=enable                          # enable, disable, ac1, ac2, ac3, ac4, ac5, acl, remote\n",
      "edacttimetable=                         # , timeexpample0, timeexpample1, timeexpample2, timeexpample3, timeexpample4\n",
      "armcond_ac1_source=disable              # disable, enable, time_table, remote, action, illu\n",
      "armcond_ac1_timetable=                  # timeexpample0, timeexpample1, timeexpample2, timeexpample3, timeexpample4\n",
      "armcond_ac1_illu_level=100.0            # (string constant) \n",
      "armcond_ac1_illu_cmp=higher             # higher, lower\n",
      "armcond_ac1_illu_delay=10               # 0 .. 300 \n",
      "armcond_ac2_source=disable              # disable, enable, time_table, remote, action, illu\n",
      "armcond_ac2_timetable=                  # timeexpample0, timeexpample1, timeexpample2, timeexpample3, timeexpample4\n",
      "armcond_ac2_illu_level=100.0            # (string constant) \n",
      "armcond_ac2_illu_cmp=higher             # higher, lower\n",
      "armcond_ac2_illu_delay=10               # 0 .. 300 \n",
      "armcond_ac3_source=disable              # disable, enable, time_table, remote, action, illu\n",
      "armcond_ac3_timetable=                  # timeexpample0, timeexpample1, timeexpample2, timeexpample3, timeexpample4\n",
      "armcond_ac3_illu_level=100.0            # (string constant) \n",
      "armcond_ac3_illu_cmp=higher             # higher, lower\n",
      "armcond_ac3_illu_delay=10               # 0 .. 300 \n",
      "armcond_ac4_source=disable              # disable, enable, time_table, remote, action, illu\n",
      "armcond_ac4_timetable=                  # timeexpample0, timeexpample1, timeexpample2, timeexpample3, timeexpample4\n",
      "armcond_ac4_illu_level=100.0            # (string constant) \n",
      "armcond_ac4_illu_cmp=higher             # higher, lower\n",
      "armcond_ac4_illu_delay=10               # 0 .. 300 \n",
      "armcond_ac5_source=disable              # disable, enable, time_table, remote, action, illu\n",
      "armcond_ac5_timetable=                  # timeexpample0, timeexpample1, timeexpample2, timeexpample3, timeexpample4\n",
      "armcond_ac5_illu_level=100.0            # (string constant) \n",
      "armcond_ac5_illu_cmp=higher             # higher, lower\n",
      "armcond_ac5_illu_delay=10               # 0 .. 300 \n",
      "armcond_acl_source=disable              # disable, ac1_and_ac2, ac1_or_ac2, remote\n",
      "enable_distributed_camera_state=0       # 1, 0\n",
      "master_cam=                             # (string constant) \n",
      "replication_protocol_port=60000         # 0 .. 65535 \n",
      "led_events=~                            # ENV%2CPI, ENV%2CMI, IMA%2CVM, IMA%2CVM2, IMA%2CAS, IMA%2Cima_63dce9e3, SIG%2CSI, SIG%2CUC, TIM%2CPE, TIM%2CTT\n",
      "led_arming=edactiv                      # edactiv, ac1, ac2, ac3, ac4, ac5, acl\n",
      "inputarm_delay=60                       # 0, 5, 10, 15, 20, 25, 30, 45, 60, 75, 90\n",
      "inputdisarm_delay=0                     # 0, 5, 10, 15, 20, 25, 30, 45, 60, 75, 90\n",
      "recording_activ=enable                  # enable, disable, ac1, ac2, ac3, ac4, ac5, acl, remote\n",
      "recording_timetable=                    # , timeexpample0, timeexpample1, timeexpample2, timeexpample3, timeexpample4\n",
      "rec_sign=0                              # 0, 1\n",
      "recsymbol=enable                        # disable, enable\n",
      "freezeactiv=off                         # off, on\n",
      "freezeevents=SIG,UC                     # ENV%2CPI, ENV%2CMI, IMA%2CVM, IMA%2CVM2, IMA%2CAS, IMA%2Cima_63dce9e3, SIG%2CSI, SIG%2CUC, TIM%2CPE, TIM%2CTT\n",
      "freezedelay=15                          # 0 .. 86400 \n",
      "recording_fullimage=0                   # 0, 1\n",
      "recording=streaming_event               # snapshot, streaming_event, streaming\n",
      "storypacking=0                          # 1, 0\n",
      "streamframerate100=100                  # 0, 2500, 1200, 600, 400, 300, 200, 100, 50, 33, 25, 20\n",
      "streamaudio=audio                       # none, audio\n",
      "recstartevents=*                        # ENV%2CPI, ENV%2CMI, IMA%2CVM, IMA%2CVM2, IMA%2CAS, IMA%2Cima_63dce9e3, SIG%2CSI, SIG%2CUC, TIM%2CPE, TIM%2CTT\n",
      "storyinterval=1000                      # 0 .. 600000 \n",
      "storyantecount=1                        # 0, 1, 2, 3, 4, 5, 6, 7, 8, 9, 10, 15, 20, 25, 30, 35, 40, 45, 50\n",
      "storypostcount=2                        # 0, 1, 2, 3, 4, 5, 6, 7, 8, 9, 10, 15, 20, 25, 30, 35, 40, 45, 50\n",
      "streameventframerate100=0               # 0, 2500, 1200, 600, 400, 300, 200, 100, 50, 33, 25, 20\n",
      "streamantetime=0                        # 0 .. 15 \n",
      "streamtime=10                           # 2, 4, 6, 8, 10, 20, 30, 40, 50, 60, 70, 80, 90, 120, 180, 300, 420, 600, 900\n",
      "recstretchevents=~                      # ENV%2CPI, ENV%2CMI, IMA%2CVM, IMA%2CVM2, IMA%2CAS, IMA%2Cima_63dce9e3, SIG%2CSI, SIG%2CUC, TIM%2CPE, TIM%2CTT\n",
      "recstopevents=~                         # ENV%2CPI, ENV%2CMI, IMA%2CVM, IMA%2CVM2, IMA%2CAS, IMA%2Cima_63dce9e3, SIG%2CSI, SIG%2CUC, TIM%2CPE, TIM%2CTT\n",
      "storystopcount=1                        # 0, 1, 2, 3, 4, 5, 6, 7, 8, 9, 10, 15, 20, 25, 30, 35, 40, 45, 50\n",
      "streamstoptime=10                       # 0, 2, 4, 6, 8, 10, 20, 30, 40, 50, 60, 70, 80, 90, 120, 180, 300, 420, 600, 900\n",
      "recstopdeadtime=5                       # 0 .. 3600 \n",
      "rechistory_sec=0                        # 0, -1, 1\n",
      "rechistory_cron=* * * * *               # (string constant) \n",
      "rechistory_interval=10                  # 10 .. 86400 \n",
      "rechistory_imgprof=                     # , UHD, QXGA, FHD, MEGA, VGA, CIF\n",
      "recsuspectevents=~                      # ENV%2CPI, ENV%2CMI, IMA%2CVM, IMA%2CVM2, IMA%2CAS, IMA%2Cima_63dce9e3, SIG%2CSI, SIG%2CUC, TIM%2CPE, TIM%2CTT\n",
      "recsuspecttimepre=10                    # 0 .. 120 \n",
      "recsuspecttimepost=10                   # 0 .. 120 \n",
      "imageinfo=1                             # 0, 1, 2\n",
      "chartdrawmode=off                       # off, bar, scrollchart\n",
      "chartevent=ENV,PI                       # ENV%2CPI, ENV%2CMI, IMA%2CVM, IMA%2CVM2, IMA%2CAS, IMA%2Cima_63dce9e3, SIG%2CSI, SIG%2CUC, TIM%2CPE, TIM%2CTT\n",
      "playsound_list=Alarm                    # Alarm, AnsKeyNoFunction, AnsMsgBell, AnsMsgKeypad, AnsMsgNoAnswer, Beep, Busy, Cuckooclock, Default, DoorBell, Phonering, Standard\n",
      "audioalarmenabled=0                     # 1, 0\n",
      "audioalarmthresh=50                     # 0 .. 100 \n",
      "tamperingeventenabled=0                 # 1, 0\n",
      "#-P tap_debounce \"Detection Sensitivity\": \"1\", \"3\", \"5\", \"7\", \"9\", \"11\", \"13\", \"15\"\n",
      "#-H tap_debounce \"Shock Detection\"\n",
      "#-E tap_debounce \"Sensitivity value for Shock Detection events. Lower values trigger more easily. Only increase in case of high false alarm rates.\"\n",
      "#-P motionhideunused \"Hide Unused Windows\": \"1\", \"0\"\n",
      "#-H motionhideunused \"Video Motion Settings\"\n",
      "#-E motionhideunused \"If this box is checked, motion windows that are not used in any of the event profiles will not be displayed or evaluated.\"\n",
      "#-P motionwintype \"Video Motion Style\": \"Off\", \"On and hide on event\", \"On and highlight on event\", \"Hide but highlight on event\"\n",
      "#-E motionwintype \"Appearance of motion window border.\"\n",
      "#-P motionwinid \"Show Video Motion Window ID\": \"1\", \"0\"\n",
      "#-E motionwinid \"Display the ID in the upper left corner of each window.\"\n",
      "#-P motionreftime \"Video Motion Suppression Time\": \n",
      "#-E motionreftime \"Disable motion detection for this duration [0..30000ms] after a reference window has triggered.<br>Factory default: <i>0</i> (disables motion detection in current image only).\"\n",
      "#-P motionnightoff \"Low-Light Suppression\": \"Off\", \"0.1 lux\", \"0.3 lux\", \"0.6 lux\", \"1.0 lux\", \"1.8 lux\", \"3.2 lux\", \"5.6 lux\"\n",
      "#-E motionnightoff \"Disables motion detection if illumination drops below selected value. Can be set independently for each camera lens.\"\n",
      "#-P motion_area \"Video Motion Definitions\": \n",
      "#-E motion_area \"Format: lens, window<br>lens: 0=right, 1=left.<br>window: can be defined as a rectangle as well as a polygon.<br>For a detailed description of window definitions and additional variables, please refer to the <a href='/help/help?videomotion#VMWindowDefs' onclick='openExtNoDeko('/help/help?videomotion#VMWindowDefs',windowname_help); return false;' target='_blank'>help page</a>.<br><b>Note:</b> All user-defined coordinates are relative to the entire sensor area. The origin (0,0) corresponds to the lower left corner, (1279,959) to the upper right corner (if the image is <a href='general'>mirrored/rotated</a> the coordinate system changes accordingly).<br>\"\n",
      "#-P ima_as_fast_motion_stabilizer \"Detect Fast Motion\": \"1\", \"0\"\n",
      "#-H ima_as_fast_motion_stabilizer \"General MxActivitySensor Settings\"\n",
      "#-E ima_as_fast_motion_stabilizer \"Improve detection of fast objects. This could impair the detection of small objects.\"\n",
      "#-P ima_as_show_directions \"Show Direction Indicator\": \"1\", \"0\"\n",
      "#-E ima_as_show_directions \"Show detected directions in the live image.<br></font><script type='text/javascript'> function asflash_all() { var cgitrick = new Image(); cgitrick.src = '/control/click.cgi?asflash=*'              + '&amp;dummy=' + Math.floor(Math.random()*1000000); } </script> <input class='mxFormButton' type='button' value='Highlight all areas' onclick='asflash_all();'><font>\"\n",
      "#-P ima_as_show_position \"Show Live Position Indicator\": \"1\", \"0\"\n",
      "#-E ima_as_show_position \"Show Position of detected directions in the live image.\"\n",
      "#-P ima_as_show_profile \"Show Detection Area\": \"Off\", \"AS\"\n",
      "#-E ima_as_show_profile \"Show detection area of selected profile in the live image.\"\n",
      "#-P ima_as_use_v2 \"MxActivitySensor 2.1\": \"1\", \"0\"\n",
      "#-H ima_as_use_v2 \"MxActivitySensor 2.1 Settings\"\n",
      "#-E ima_as_use_v2 \"MxActivitySensor 2.1 can detect moving objects depending on their individual size. Activating this option may reduce the maximum frame rate.<br></font><script type='text/javascript'> function as2flash() { var cgitrick = new Image(); cgitrick.src = '/control/click.cgi?as2flash=*'              + '&amp;dummy=' + Math.floor(Math.random()*1000000); } </script> <input class='mxFormButton' type='button' value='Highlight Object Sizes' onclick='as2flash();'><font>\"\n",
      "#-P ima_as_use_perspective \"Perspective Compensation\": \"1\", \"0\"\n",
      "#-E ima_as_use_perspective \"Enable perspective compensation of MxActivitySensor.\"\n",
      "#-P ima_as_near_obj_size \"Near Object Size\": \n",
      "#-E ima_as_near_obj_size \"Set size of objects that are closer to the camera.\"\n",
      "#-P ima_as_far_obj_size \"Far Object Size\": \n",
      "#-E ima_as_far_obj_size \"Set size of objects that are farther away from the camera.\"\n",
      "#-P ima_as_min_obj_size \"Minimum Object Size\": \n",
      "#-E ima_as_min_obj_size \"Use this parameter to avoid alarms triggered by small objects.\"\n",
      "#-P ipreceiveport \"Port\": \n",
      "#-H ipreceiveport \"IP Receive\"\n",
      "#-E ipreceiveport \"TCP port to listen on.\"\n",
      "#-P softbutton1 \"Activate Softbutton\": \"1\", \"0\"\n",
      "#-H softbutton1 \"Right Softbutton\"\n",
      "#-E softbutton1 \"Press a softbutton using 'R' camera button.\"\n",
      "#-P softbuttonname1 \"Softbutton Name\": \n",
      "#-E softbuttonname1 \"Enter softbutton name.\"\n",
      "#-P softbutton2 \"Activate Softbutton\": \"1\", \"0\"\n",
      "#-H softbutton2 \"Left Softbutton\"\n",
      "#-E softbutton2 \"Press a softbutton using 'L' camera button.\"\n",
      "#-P softbuttonname2 \"Softbutton Name\": \n",
      "#-E softbuttonname2 \"Enter softbutton name.\"\n",
      "#-P edactiv \"Arming\": \"Enabled\", \"Off\", \"CS1\", \"CS2\", \"CS3\", \"CS4\", \"CS5\", \"CSL\", \"From Master\"\n",
      "#-H edactiv \"Arming\"\n",
      "#-E edactiv \"Arming for Recording and Action Groups:<br><i>Enabled</i>: activate all.<br><i>Off</i>: deactivate all.<br><i>SI</i>: arming controlled by signal input.<br><i>CS</i>: arming controlled by custom signal as defined below.<br><i>From Master</i>: copies Main Event Arming state from master camera.\"\n",
      "#-P edacttimetable \"Time Table Profile\": \"(No time table)\", \"My Custom Times\", \"Closing Times\", \"Opening Times\", \"Weekdays Mo-Fr\", \"Weekend Sa-So\"\n",
      "#-E edacttimetable \"Time table profile for time-controlled arming (<a href='/admin/timetable'>Time Tables</a>).\"\n",
      "#-P armcond_ac1_source \"Source\": \"Off\", \"On\", \"Time Table\", \"From Master\", \"By Action\", \"By Illumination\"\n",
      "#-H armcond_ac1_source \"Custom Signal 1 (CS1)\"\n",
      "#-E armcond_ac1_source \"Specify how to generate custom signal <b>CS1</b>.<br><i>Off</i>: set to <i>false</i>.<br><i>On</i>: set to <i>true</i>.<br><i>Signal Input</i>: derive from signal input.<br><i>Time Table</i>: derive from time table.<br><i>From Master</i>: copy <b>CS1</b> from the master camera.<br><i>By Action</i>: control state via action groups.<br><i>By Illumination</i>: derive from illumination value.\"\n",
      "#-P armcond_ac1_timetable \"Time Table\": \"My Custom Times\", \"Closing Times\", \"Opening Times\", \"Weekdays Mo-Fr\", \"Weekend Sa-So\"\n",
      "#-E armcond_ac1_timetable \"Select the time table to use as input to <b>CS1</b>.\"\n",
      "#-P armcond_ac1_illu_level \"Trigger Level\": \n",
      "#-E armcond_ac1_illu_level \"Enter the illumination in lux. The precision is one decimal digit.\"\n",
      "#-P armcond_ac1_illu_cmp \"Comparison\": \"Higher than\", \"Lower than\"\n",
      "#-E armcond_ac1_illu_cmp \"Select the signal condition.\"\n",
      "#-P armcond_ac1_illu_delay \"Delay\": \n",
      "#-E armcond_ac1_illu_delay \"Delay for state changes in seconds [0..300].\"\n",
      "#-P armcond_ac2_source \"Source\": \"Off\", \"On\", \"Time Table\", \"From Master\", \"By Action\", \"By Illumination\"\n",
      "#-H armcond_ac2_source \"Custom Signal 2 (CS2)\"\n",
      "#-E armcond_ac2_source \"Specify how to generate custom signal <b>CS2</b>.<br><i>Off</i>: set to <i>false</i>.<br><i>On</i>: set to <i>true</i>.<br><i>Signal Input</i>: derive from signal input.<br><i>Time Table</i>: derive from time table.<br><i>From Master</i>: copy <b>CS2</b> from the master camera.<br><i>By Action</i>: control state via action groups.<br><i>By Illumination</i>: derive from illumination value.\"\n",
      "#-P armcond_ac2_timetable \"Time Table\": \"My Custom Times\", \"Closing Times\", \"Opening Times\", \"Weekdays Mo-Fr\", \"Weekend Sa-So\"\n",
      "#-E armcond_ac2_timetable \"Select the time table to use as input to <b>CS2</b>.\"\n",
      "#-P armcond_ac2_illu_level \"Trigger Level\": \n",
      "#-E armcond_ac2_illu_level \"Enter the illumination in lux. The precision is one decimal digit.\"\n",
      "#-P armcond_ac2_illu_cmp \"Comparison\": \"Higher than\", \"Lower than\"\n",
      "#-E armcond_ac2_illu_cmp \"Select the signal condition.\"\n",
      "#-P armcond_ac2_illu_delay \"Delay\": \n",
      "#-E armcond_ac2_illu_delay \"Delay for state changes in seconds [0..300].\"\n",
      "#-P armcond_ac3_source \"Source\": \"Off\", \"On\", \"Time Table\", \"From Master\", \"By Action\", \"By Illumination\"\n",
      "#-H armcond_ac3_source \"Custom Signal 3 (CS3)\"\n",
      "#-E armcond_ac3_source \"Specify how to generate custom signal <b>CS3</b>.<br><i>Off</i>: set to <i>false</i>.<br><i>On</i>: set to <i>true</i>.<br><i>Signal Input</i>: derive from signal input.<br><i>Time Table</i>: derive from time table.<br><i>From Master</i>: copy <b>CS3</b> from the master camera.<br><i>By Action</i>: control state via action groups.<br><i>By Illumination</i>: derive from illumination value.\"\n",
      "#-P armcond_ac3_timetable \"Time Table\": \"My Custom Times\", \"Closing Times\", \"Opening Times\", \"Weekdays Mo-Fr\", \"Weekend Sa-So\"\n",
      "#-E armcond_ac3_timetable \"Select the time table to use as input to <b>CS3</b>.\"\n",
      "#-P armcond_ac3_illu_level \"Trigger Level\": \n",
      "#-E armcond_ac3_illu_level \"Enter the illumination in lux. The precision is one decimal digit.\"\n",
      "#-P armcond_ac3_illu_cmp \"Comparison\": \"Higher than\", \"Lower than\"\n",
      "#-E armcond_ac3_illu_cmp \"Select the signal condition.\"\n",
      "#-P armcond_ac3_illu_delay \"Delay\": \n",
      "#-E armcond_ac3_illu_delay \"Delay for state changes in seconds [0..300].\"\n",
      "#-P armcond_ac4_source \"Source\": \"Off\", \"On\", \"Time Table\", \"From Master\", \"By Action\", \"By Illumination\"\n",
      "#-H armcond_ac4_source \"Custom Signal 4 (CS4)\"\n",
      "#-E armcond_ac4_source \"Specify how to generate custom signal <b>CS4</b>.<br><i>Off</i>: set to <i>false</i>.<br><i>On</i>: set to <i>true</i>.<br><i>Signal Input</i>: derive from signal input.<br><i>Time Table</i>: derive from time table.<br><i>From Master</i>: copy <b>CS4</b> from the master camera.<br><i>By Action</i>: control state via action groups.<br><i>By Illumination</i>: derive from illumination value.\"\n",
      "#-P armcond_ac4_timetable \"Time Table\": \"My Custom Times\", \"Closing Times\", \"Opening Times\", \"Weekdays Mo-Fr\", \"Weekend Sa-So\"\n",
      "#-E armcond_ac4_timetable \"Select the time table to use as input to <b>CS4</b>.\"\n",
      "#-P armcond_ac4_illu_level \"Trigger Level\": \n",
      "#-E armcond_ac4_illu_level \"Enter the illumination in lux. The precision is one decimal digit.\"\n",
      "#-P armcond_ac4_illu_cmp \"Comparison\": \"Higher than\", \"Lower than\"\n",
      "#-E armcond_ac4_illu_cmp \"Select the signal condition.\"\n",
      "#-P armcond_ac4_illu_delay \"Delay\": \n",
      "#-E armcond_ac4_illu_delay \"Delay for state changes in seconds [0..300].\"\n",
      "#-P armcond_ac5_source \"Source\": \"Off\", \"On\", \"Time Table\", \"From Master\", \"By Action\", \"By Illumination\"\n",
      "#-H armcond_ac5_source \"Custom Signal 5 (CS5)\"\n",
      "#-E armcond_ac5_source \"Specify how to generate custom signal <b>CS5</b>.<br><i>Off</i>: set to <i>false</i>.<br><i>On</i>: set to <i>true</i>.<br><i>Signal Input</i>: derive from signal input.<br><i>Time Table</i>: derive from time table.<br><i>From Master</i>: copy <b>CS5</b> from the master camera.<br><i>By Action</i>: control state via action groups.<br><i>By Illumination</i>: derive from illumination value.\"\n",
      "#-P armcond_ac5_timetable \"Time Table\": \"My Custom Times\", \"Closing Times\", \"Opening Times\", \"Weekdays Mo-Fr\", \"Weekend Sa-So\"\n",
      "#-E armcond_ac5_timetable \"Select the time table to use as input to <b>CS5</b>.\"\n",
      "#-P armcond_ac5_illu_level \"Trigger Level\": \n",
      "#-E armcond_ac5_illu_level \"Enter the illumination in lux. The precision is one decimal digit.\"\n",
      "#-P armcond_ac5_illu_cmp \"Comparison\": \"Higher than\", \"Lower than\"\n",
      "#-E armcond_ac5_illu_cmp \"Select the signal condition.\"\n",
      "#-P armcond_ac5_illu_delay \"Delay\": \n",
      "#-E armcond_ac5_illu_delay \"Delay for state changes in seconds [0..300].\"\n",
      "#-P armcond_acl_source \"Source\": \"Off\", \"CS1 and CS2\", \"CS1 or CS2\", \"From Master\"\n",
      "#-H armcond_acl_source \"Logically Combined Signal (CSL)\"\n",
      "#-E armcond_acl_source \"Specify how to logically combine <b>CS1</b> and <b>CS2</b> in order to produce <b>CSL</b>.<br><i>And, Or</i>: available logical combinations.<br><i>From Master</i>: copy <b>CSL</b> from the master camera.\"\n",
      "#-P enable_distributed_camera_state \"Enable Master/Slave\": \"1\", \"0\"\n",
      "#-H enable_distributed_camera_state \"Master/Slave\"\n",
      "#-E enable_distributed_camera_state \"Specify whether or not this camera supports the processing of signals imported from a master camera and whether or not slave cameras are allowed to log in and to fetch local camera signals.\"\n",
      "#-P master_cam \"Master Camera\": \n",
      "#-E master_cam \"Camera to fetch remote signals from. Only relevant if you specified <i>From Master</i> at least once as source to arming controls (camera main arming, recording, actions, messaging) or to custom signals (<b>CS1</b>, <b>CS2</b>, <b>CSL</b>).<br> <b>Note:</b> You must use the primary IP address/subnet of the master/slave camera in this context. The additional IP address/subnet cannot be used in this context.\"\n",
      "#-P replication_protocol_port \"Replication Protocol Port\": \n",
      "#-E replication_protocol_port \"IP port used by the network protocol that replicates master camera signals among a set of slave cameras.\"\n",
      "#-P led_events \"Event LED\": \"(Environment: PI)\", \"(Environment: MI)\", \"Image Analysis: VM\", \"Image Analysis: VM2\", \"Image Analysis: AS\", \"(Image Analysis: Demo BA)\", \"(Signal: SI)\", \"Signal: UC\", \"(Time: PE)\", \"(Time: TT)\"\n",
      "#-H led_events \"LED Setup\"\n",
      "#-E led_events \"The selected events will trigger the event LED.<br>Set LEDs in <a href='/admin/setleds'>LED Setup</a> to <i>Event</i> for this feature.\"\n",
      "#-P led_arming \"Arming LED\": \"Main Arming\", \"CS1\", \"CS2\", \"CS3\", \"CS4\", \"CS5\", \"CSL\"\n",
      "#-E led_arming \"The selected arming states will control the arming LED. The LED is lit only if <b>all</b> of the selected states are armed.<br>Set LEDs in <a href='/admin/setleds'>LED Setup</a> to <i>Arming</i> for this feature.\"\n",
      "#-P inputarm_delay \"Arming Delay\": \"0 s\", \"5 s\", \"10 s\", \"15 s\", \"20 s\", \"25 s\", \"30 s\", \"45 s\", \"60 s\", \"75 s\", \"90 s\"\n",
      "#-H inputarm_delay \"Arming Delay\"\n",
      "#-E inputarm_delay \"Delay of arming by signal input in seconds.\"\n",
      "#-P inputdisarm_delay \"Disarming Delay\": \"0 s\", \"5 s\", \"10 s\", \"15 s\", \"20 s\", \"25 s\", \"30 s\", \"45 s\", \"60 s\", \"75 s\", \"90 s\"\n",
      "#-E inputdisarm_delay \"Delay for disarming by signal input in seconds.\"\n",
      "#-P recording_activ \"Arm Recording\": \"Enabled\", \"Off\", \"CS1\", \"CS2\", \"CS3\", \"CS4\", \"CS5\", \"CSL\", \"From Master\"\n",
      "#-H recording_activ \"Arming\"\n",
      "#-E recording_activ \"Controls camera recording.<br><i>Enabled</i>: activate recording.<br><i>Off</i>: deactivate recording.<br><i>SI</i>: recording armed by signal input.<br><i>CS</i>: recording armed by custom signal as defined in <a href='./settings'>General Event Settings</a>.<br><i>From Master</i>: copies recording arming state from master camera.\"\n",
      "#-P recording_timetable \"Time Table Profile\": \"(No time table)\", \"My Custom Times\", \"Closing Times\", \"Opening Times\", \"Weekdays Mo-Fr\", \"Weekend Sa-So\"\n",
      "#-E recording_timetable \"Time table profile for time-controlled recording (<a href='/admin/timetable'>Time Tables</a>).\"\n",
      "#-P rec_sign \"Digital Signing\": \"Off\", \"On\"\n",
      "#-H rec_sign \"Digital Signing\"\n",
      "#-E rec_sign \"Digitally sign the recorded image files using the X.509 certificate of the web server.<br>Manage X.509 certificates of the <a href='/admin/httpd.pem'>web server</a>.\"\n",
      "#-P recsymbol \"Activate Recording Status Symbol\": \"Off\", \"On\"\n",
      "#-H recsymbol \"Recording Status Symbol\"\n",
      "#-E recsymbol \"<i>On</i> will draw a symbol in the image to visualize the current arming and recording status.\"\n",
      "#-P freezeactiv \"Activate Terminate Recording\": \"Off\", \"On\"\n",
      "#-H freezeactiv \"Terminate Recording (TR)\"\n",
      "#-E freezeactiv \"Terminate recording if an event is detected.<br>Use this option to freeze stored images.<br><a href='/control/rcontrol?action=defreeze' onClick='var cgitrick_freeze = new Image(); cgitrick_freeze.src = '/control/rcontrol?action=defreeze&amp;dummy='+Math.floor(Math.random()*1000000); return false;' target='_blank'>Click here to resume recording.</a>\"\n",
      "#-P freezeevents \"Termination Condition\": \"(Environment: PI)\", \"(Environment: MI)\", \"Image Analysis: VM\", \"Image Analysis: VM2\", \"Image Analysis: AS\", \"(Image Analysis: Demo BA)\", \"(Signal: SI)\", \"Signal: UC\", \"(Time: PE)\", \"(Time: TT)\"\n",
      "#-E freezeevents \"Select the events which will terminate recording.<br>Note: Make sure that each selected event is activated in <a href='events'>Event Overview</a>.\"\n",
      "#-P freezedelay \"Time Before Terminate\": \n",
      "#-E freezedelay \"Time delay before the recording is terminated. [0..86400 s]\"\n",
      "#-P recording_fullimage \"Activate Full Image Recording\": \"Off\", \"On\"\n",
      "#-H recording_fullimage \"Full Image Recording\"\n",
      "#-E recording_fullimage \"<i>Off</i> will record the live image.<br><i>On</i> will record the <i>Full Image</i> of the sensor using the following parameters.\"\n",
      "#-P recording \"Recording Mode\": \"Snap Shot Recording\", \"Event Recording\", \"Continuous Recording\"\n",
      "#-H recording \"Recording (REC)\"\n",
      "#-E recording \"Type of event and story recording.<br><i>Snap Shot Recording</i>: stores single JPEG pictures.<br><i>Event Recording</i>: stores stream files for every event using MxPEG codec.<br><i>Continuous Recording</i>: continuously streams video data to stream files using MxPEG codec. Events can be recorded with a higher frame rate using <i>Start Recording</i>, <i>Retrigger Recording</i> and <i>Stop Recording</i>.\"\n",
      "#-P storypacking \"Pack Event Story\": \"1\", \"0\"\n",
      "#-E storypacking \"Pack snap shot images into one clip file to improve file server performance.\"\n",
      "#-P streamframerate100 \"Continuous Recording Frame Rate\": \"Max fps\", \"25 fps\", \"12 fps\", \"6 fps\", \"4 fps\", \"3 fps\", \"2 fps\", \"1 fps\", \"2 s\", \"3 s\", \"4 s\", \"5 s\"\n",
      "#-E streamframerate100 \"Standard speed of continuous recording in frames per second.\"\n",
      "#-P streamaudio \"Record Audio Data\": \"Off\", \"Include audio\"\n",
      "#-E streamaudio \"Store audio data in stream file if available.<br>Enable and configure <a href='/admin/audio'>microphone</a>.\"\n",
      "#-P recstartevents \"Start Recording\": \"(Environment: PI)\", \"(Environment: MI)\", \"Image Analysis: VM\", \"Image Analysis: VM2\", \"Image Analysis: AS\", \"(Image Analysis: Demo BA)\", \"(Signal: SI)\", \"Signal: UC\", \"(Time: PE)\", \"(Time: TT)\"\n",
      "#-H recstartevents \"Start Recording\"\n",
      "#-E recstartevents \"Select the events which will start recording.<br>Use [Ctrl]-Click to select more than one event.<br>Events in parentheses need to be <a href='/control/events'>activated</a> first.\"\n",
      "#-P storyinterval \"Snap Shot Interval\": \n",
      "#-E storyinterval \"Recording interval for story images in milliseconds [0..600000 ms].\"\n",
      "#-P storyantecount \"Pre-Alarm Images\": \"0\", \"1\", \"2\", \"3\", \"4\", \"5\", \"6\", \"7\", \"8\", \"9\", \"10\", \"15\", \"20\", \"25\", \"30\", \"35\", \"40\", \"45\", \"50\"\n",
      "#-E storyantecount \"Pre-alarm images for event story.\"\n",
      "#-P storypostcount \"Post-Alarm Images\": \"0\", \"1\", \"2\", \"3\", \"4\", \"5\", \"6\", \"7\", \"8\", \"9\", \"10\", \"15\", \"20\", \"25\", \"30\", \"35\", \"40\", \"45\", \"50\"\n",
      "#-E storypostcount \"Post-alarm images for event story.\"\n",
      "#-P streameventframerate100 \"Event Frame Rate\": \"Max fps\", \"25 fps\", \"12 fps\", \"6 fps\", \"4 fps\", \"3 fps\", \"2 fps\", \"1 fps\", \"2 s\", \"3 s\", \"4 s\", \"5 s\"\n",
      "#-E streameventframerate100 \"Recording speed if an event is detected, in frames per second.\"\n",
      "#-P streamantetime \"Recording Time Before Event\": \n",
      "#-E streamantetime \"Additional recording time before an event in seconds.\"\n",
      "#-P streamtime \"Recording Time\": \"2 s\", \"4 s\", \"6 s\", \"8 s\", \"10 s\", \"20 s\", \"30 s\", \"40 s\", \"50 s\", \"60 s\", \"70 s\", \"80 s\", \"90 s\", \"2 min\", \"3 min\", \"5 min\", \"7 min\", \"10 min\", \"15 min\"\n",
      "#-E streamtime \"Time to include in recorded stream after an event has occurred.\"\n",
      "#-P recstretchevents \"Retrigger Recording\": \"(Environment: PI)\", \"(Environment: MI)\", \"Image Analysis: VM\", \"Image Analysis: VM2\", \"Image Analysis: AS\", \"(Image Analysis: Demo BA)\", \"(Signal: SI)\", \"Signal: UC\", \"(Time: PE)\", \"(Time: TT)\"\n",
      "#-H recstretchevents \"Retrigger Recording\"\n",
      "#-E recstretchevents \"Select the events which will retrigger recording.<br>Use [Ctrl]-Click to select more than one event.<br>Events in parentheses need to be <a href='/control/events'>activated</a> first.\"\n",
      "#-P recstopevents \"Stop Recording\": \"(Environment: PI)\", \"(Environment: MI)\", \"Image Analysis: VM\", \"Image Analysis: VM2\", \"Image Analysis: AS\", \"(Image Analysis: Demo BA)\", \"(Signal: SI)\", \"Signal: UC\", \"(Time: PE)\", \"(Time: TT)\"\n",
      "#-H recstopevents \"Stop Recording\"\n",
      "#-E recstopevents \"Select the events which will stop recording.<br>Use [Ctrl]-Click to select more than one event.<br>Events in parentheses need to be <a href='/control/events'>activated</a> first.\"\n",
      "#-P storystopcount \"Images After Stop Event\": \"0\", \"1\", \"2\", \"3\", \"4\", \"5\", \"6\", \"7\", \"8\", \"9\", \"10\", \"15\", \"20\", \"25\", \"30\", \"35\", \"40\", \"45\", \"50\"\n",
      "#-E storystopcount \"Images to include in recorded snap shots after Stop Recording event has occurred.\"\n",
      "#-P streamstoptime \"Recording Time After Stop Event\": \"Off\", \"2 s\", \"4 s\", \"6 s\", \"8 s\", \"10 s\", \"20 s\", \"30 s\", \"40 s\", \"50 s\", \"60 s\", \"70 s\", \"80 s\", \"90 s\", \"2 min\", \"3 min\", \"5 min\", \"7 min\", \"10 min\", \"15 min\"\n",
      "#-E streamstoptime \"Time to include in recorded stream after Stop Recording event has occurred.\"\n",
      "#-P recstopdeadtime \"Recording Dead Time\": \n",
      "#-E recstopdeadtime \"If recording is stopped by an event, a new recording is suspended for this time [0..3600 s].\"\n",
      "#-P rechistory_sec \"History Recording\": \"Off\", \"Use Time Task (TT)\", \"Use Interval\"\n",
      "#-H rechistory_sec \"History Recording (HR)\"\n",
      "#-E rechistory_sec \"Records one additional image at the specified interval.\"\n",
      "#-P rechistory_cron \"Recording Time\": \n",
      "#-E rechistory_cron \"Unix CRON syntax: For each field, you may use lists and ranges of numbers (e.g. '1-3,5,8'), or an asterisk ('*'). For more details, please refer to the <a href='/help/help?timetasks' onclick='openExtNoDeko('/help/help?timetasks',windowname_help); return false;' target='_blank'>Time Tasks help page</a>.\"\n",
      "#-P rechistory_interval \"History Recording Interval\": \n",
      "#-E rechistory_interval \"Recording interval between history images [10..86400s].\"\n",
      "#-P rechistory_imgprof \"Image Profile for History\": \"Live Image\", \"Ultra HD\", \"QXGA\", \"FullHD\", \"MEGA\", \"VGA\", \"CIF\"\n",
      "#-E rechistory_imgprof \"Select an image profile for history recording.\"\n",
      "#-P recsuspectevents \"UVV Suspect Trigger\": \"(Environment: PI)\", \"(Environment: MI)\", \"Image Analysis: VM\", \"Image Analysis: VM2\", \"Image Analysis: AS\", \"(Image Analysis: Demo BA)\", \"(Signal: SI)\", \"Signal: UC\", \"(Time: PE)\", \"(Time: TT)\"\n",
      "#-E recsuspectevents \"Select the events which will trigger an UVV suspect recording.<br>Note: Make sure that each selected event is activated in <a href='events'>Event Overview</a>.\"\n",
      "#-P recsuspecttimepre \"Recording Time Before UVV Suspect\": \n",
      "#-E recsuspecttimepre \"Minimum recording time in seconds before the UVV suspect event [0..120].\"\n",
      "#-P recsuspecttimepost \"Recording Time After UVV Suspect\": \n",
      "#-E recsuspecttimepost \"Minimum recording time in seconds after the UVV suspect event [0..120].\"\n",
      "#-P imageinfo \"Show Event/Action Symbols\": \"Off\", \"Symbols\", \"Symbols II\"\n",
      "#-H imageinfo \"Display Options\"\n",
      "#-E imageinfo \"Show event symbols.<br>Use <i>Symbols II</i> if many events are activated.\"\n",
      "#-P chartdrawmode \"Level Meter\": \"Off\", \"Bar\", \"Scroll Chart\"\n",
      "#-E chartdrawmode \"Display level meter as bar graph or scroll chart. The level meter is displayed in the lower left corner.\"\n",
      "#-P chartevent \"Level Meter Data\": \"(Environment: PI)\", \"(Environment: MI)\", \"Image Analysis: VM\", \"Image Analysis: VM2\", \"Image Analysis: AS\", \"(Image Analysis: Demo BA)\", \"(Signal: SI)\", \"Signal: UC\", \"(Time: PE)\", \"(Time: TT)\"\n",
      "#-E chartevent \"Select source for meter. If the selected event is based on an analogue sensor (e.g. microphone), the sensor level and the trigger level will be displayed. Otherwise, only a digital curve (0 to 1) representing the event's trigger state is shown.\"\n",
      "#-P playsound_list \"Sounds\": \"Alarm\", \"AnsKeyNoFunction\", \"AnsMsgBell\", \"AnsMsgKeypad\", \"AnsMsgNoAnswer\", \"Beep\", \"Busy\", \"Cuckooclock\", \"Default\", \"DoorBell\", \"Phonering\", \"Standard\"\n",
      "#-E playsound_list \"\"\n",
      "#-P audioalarmenabled \"Genetec audio alarm\": \"1\", \"0\"\n",
      "#-H audioalarmenabled \"Genetec audio alarm\"\n",
      "#-E audioalarmenabled \"Enable Genetec audio alarm\"\n",
      "#-P audioalarmthresh \"Genetec audio alarm threshold\": \n",
      "#-E audioalarmthresh \"Threshold for Genetec audio alarm in percent [0..100]\"\n",
      "#-P tamperingeventenabled \"Genetec tampering event\": \"1\", \"0\"\n",
      "#-H tamperingeventenabled \"Genetec tampering event\"\n",
      "#-E tamperingeventenabled \"Enable Genetec tampering event\"\n",
      "#ENDSECTION eventdlite\n",
      "\n"
     ]
    }
   ],
   "source": [
    "url='http://'+ip+'/control/control?list&section=eventcontrol'\n",
    "response = requests.get(url, headers=headers, auth=auth)\n",
    "data = response.text\n",
    "print(data)"
   ]
  },
  {
   "attachments": {},
   "cell_type": "markdown",
   "metadata": {},
   "source": [
    "url='http://'+ip+'/control/control?section=event_ima&ima'\n",
    "response = requests.get(url, headers=headers, auth=auth)\n",
    "data = response.text\n",
    "print(data)"
   ]
  },
  {
   "cell_type": "code",
   "execution_count": 3,
   "metadata": {},
   "outputs": [
    {
     "name": "stdout",
     "output_type": "stream",
     "text": [
      "motion_area=motion_area=$noiseadjust=1%0A$postfilter=1%0A$limit=100%0A0,poly=451x641/677x644/678x531/449x529,s=0,a=5,id=2%0A%0A0,451,531,226,111,s=20,a=25,id=3\n",
      "\n"
     ]
    },
    {
     "ename": "",
     "evalue": "",
     "output_type": "error",
     "traceback": [
      "\u001b[1;31mThe Kernel crashed while executing code in the the current cell or a previous cell. Please review the code in the cell(s) to identify a possible cause of the failure. Click <a href='https://aka.ms/vscodeJupyterKernelCrash'>here</a> for more info. View Jupyter <a href='command:jupyter.viewOutput'>log</a> for further details."
     ]
    }
   ],
   "source": [
    "url='http://'+ip+'/control/control?read&section=eventcontrol&motion_area'\n",
    "response = requests.get(url, headers=headers, auth=auth)\n",
    "data = response.text\n",
    "print(data)\n"
   ]
  },
  {
   "attachments": {},
   "cell_type": "markdown",
   "metadata": {},
   "source": [
    "Load all object image name"
   ]
  },
  {
   "cell_type": "code",
   "execution_count": 2,
   "metadata": {},
   "outputs": [
    {
     "name": "stdout",
     "output_type": "stream",
     "text": [
      "ima=VM:_profilename=VM:ima_dead=5:ima_sens=vm:activity_level=33:activity_area=0,0,0,1280,960:activity_directions=Left;Right;Up;Down:ot_type=corridor:ot_corridor_list=:ot_time_value=30:ot_speed_value=4:ot_restricted_area=0,0,0,1280,960:ot_restricted_area_color=0xFFFF00:ot_restricted_area_transparency=70:vm_list=\n",
      "ima=VM2:_profilename=VM2:ima_dead=5:ima_sens=vm:activity_level=33:activity_area=0,0,0,1280,960:activity_directions=Left;Right;Up;Down:ot_type=corridor:ot_corridor_list=:ot_time_value=30:ot_speed_value=4:ot_restricted_area=0,0,0,1280,960:ot_restricted_area_color=0xFFFF00:ot_restricted_area_transparency=70:vm_list=\n",
      "ima=AS:_profilename=AS:ima_dead=5:ima_sens=vm:activity_level=33:activity_area=:activity_directions=Left;Right;Up;Down:ot_type=corridor:ot_corridor_list=:ot_time_value=30:ot_speed_value=4:ot_restricted_area=0,0,0,1280,960:ot_restricted_area_color=0xFFFF00:ot_restricted_area_transparency=70:vm_list=\n",
      "ima=ima_63dce9e3:_profilename=M3:ima_dead=5:ima_sens=vm:activity_level=33:activity_area=:activity_directions=Left;Right;Up;Down:ot_type=corridor:ot_corridor_list=:ot_time_value=30:ot_speed_value=4:ot_restricted_area=0,0,0,1280,960:ot_restricted_area_color=0xFFFF00:ot_restricted_area_transparency=70:vm_list=\n",
      "\n"
     ]
    }
   ],
   "source": [
    "url='http://'+ip+'/control/control?read&section=event_ima&ima'\n",
    "response = requests.get(url, headers=headers, auth=auth)\n",
    "data = response.text\n",
    "print(data)\n"
   ]
  },
  {
   "attachments": {},
   "cell_type": "markdown",
   "metadata": {},
   "source": [
    "Change resolutions"
   ]
  },
  {
   "cell_type": "code",
   "execution_count": 3,
   "metadata": {},
   "outputs": [
    {
     "name": "stdout",
     "output_type": "stream",
     "text": [
      "<Response [200]>\n"
     ]
    }
   ],
   "source": [
    "# SETUP\n",
    "# Image control\n",
    "# General Image Setting\n",
    "arrRes= ['320x240', '640x480', '800x600', '1024x768', '1280x720', '1280x960', '1920x1080', '2048x1536', '2592x1944', '3072x2048', 'customize']\n",
    "resolutions=arrRes[3]\n",
    "url='http://'+ip+'/control/control?set&section=imagecontrol&size='+resolutions\n",
    "response = requests.get(url, headers=headers, auth=auth)\n",
    "print(response)"
   ]
  },
  {
   "attachments": {},
   "cell_type": "markdown",
   "metadata": {},
   "source": [
    "Create motion line"
   ]
  },
  {
   "cell_type": "code",
   "execution_count": 4,
   "metadata": {},
   "outputs": [
    {
     "name": "stdout",
     "output_type": "stream",
     "text": [
      "<Response [200]>\n"
     ]
    }
   ],
   "source": [
    "# SETUP\n",
    "# Event control\n",
    "# Image analysis events\n",
    "# Edit\n",
    "# Video motion definitions motion_area=$noiseadjust=1%0A$postfilter=1%0A$limit=100%0A0,poly=693x796/967x587/920x254/571x218,a=5,am=90,s=0,id=2%0A\n",
    "size=['0,140,330,200,300,s=20,a=25,id=1,col=blue', '0,280,660,400,600,s=20,a=25,id=2,col=blue']\n",
    "url='http://'+ip+'/control/control?set&section=eventcontrol&motion_area='+size[1]\n",
    "response = requests.get(url, headers=headers, auth=auth)\n",
    "print(response)"
   ]
  },
  {
   "attachments": {},
   "cell_type": "markdown",
   "metadata": {},
   "source": [
    "Image out view (CGI parameters)"
   ]
  },
  {
   "cell_type": "code",
   "execution_count": 5,
   "metadata": {},
   "outputs": [
    {
     "name": "stdout",
     "output_type": "stream",
     "text": [
      "<Response [200]>\n"
     ]
    }
   ],
   "source": [
    "#circel image\n",
    "url='http://'+ip+'/record/current.jpg'\n",
    "response = requests.get(url, headers=headers, auth=auth)\n",
    "print(response)\n"
   ]
  },
  {
   "cell_type": "code",
   "execution_count": 6,
   "metadata": {},
   "outputs": [
    {
     "name": "stdout",
     "output_type": "stream",
     "text": [
      "<Response [200]>\n"
     ]
    }
   ],
   "source": [
    "#panoramische image\n",
    "url='http://'+ip+'/cgi-bin/image.jpg'\n",
    "response = requests.get(url, headers=headers, auth=auth)\n",
    "print(response)"
   ]
  },
  {
   "cell_type": "code",
   "execution_count": 7,
   "metadata": {},
   "outputs": [
    {
     "ename": "KeyboardInterrupt",
     "evalue": "",
     "output_type": "error",
     "traceback": [
      "\u001b[1;31m---------------------------------------------------------------------------\u001b[0m",
      "\u001b[1;31mKeyboardInterrupt\u001b[0m                         Traceback (most recent call last)",
      "\u001b[1;32m~\\AppData\\Local\\Temp/ipykernel_59236/2479537318.py\u001b[0m in \u001b[0;36m<module>\u001b[1;34m\u001b[0m\n\u001b[0;32m      2\u001b[0m \u001b[1;31m#http://10.22.1.52/control/faststream.jpg?stream=full&preview&previewsize=320x240&quality=40&fps=4.0&camera=right\u001b[0m\u001b[1;33m\u001b[0m\u001b[1;33m\u001b[0m\u001b[0m\n\u001b[0;32m      3\u001b[0m \u001b[0murl\u001b[0m\u001b[1;33m=\u001b[0m\u001b[1;34m'http://'\u001b[0m\u001b[1;33m+\u001b[0m\u001b[0mip\u001b[0m\u001b[1;33m+\u001b[0m\u001b[1;34m'/cgi-bin/faststream.jpg'\u001b[0m\u001b[1;33m\u001b[0m\u001b[1;33m\u001b[0m\u001b[0m\n\u001b[1;32m----> 4\u001b[1;33m \u001b[0mresponse\u001b[0m \u001b[1;33m=\u001b[0m \u001b[0mrequests\u001b[0m\u001b[1;33m.\u001b[0m\u001b[0mget\u001b[0m\u001b[1;33m(\u001b[0m\u001b[0murl\u001b[0m\u001b[1;33m,\u001b[0m \u001b[0mheaders\u001b[0m\u001b[1;33m=\u001b[0m\u001b[0mheaders\u001b[0m\u001b[1;33m,\u001b[0m \u001b[0mauth\u001b[0m\u001b[1;33m=\u001b[0m\u001b[0mauth\u001b[0m\u001b[1;33m)\u001b[0m\u001b[1;33m\u001b[0m\u001b[1;33m\u001b[0m\u001b[0m\n\u001b[0m\u001b[0;32m      5\u001b[0m \u001b[0mprint\u001b[0m\u001b[1;33m(\u001b[0m\u001b[0mresponse\u001b[0m\u001b[1;33m)\u001b[0m\u001b[1;33m\u001b[0m\u001b[1;33m\u001b[0m\u001b[0m\n",
      "\u001b[1;32m~\\AppData\\Local\\Packages\\PythonSoftwareFoundation.Python.3.9_qbz5n2kfra8p0\\LocalCache\\local-packages\\Python39\\site-packages\\requests\\api.py\u001b[0m in \u001b[0;36mget\u001b[1;34m(url, params, **kwargs)\u001b[0m\n\u001b[0;32m     73\u001b[0m     \"\"\"\n\u001b[0;32m     74\u001b[0m \u001b[1;33m\u001b[0m\u001b[0m\n\u001b[1;32m---> 75\u001b[1;33m     \u001b[1;32mreturn\u001b[0m \u001b[0mrequest\u001b[0m\u001b[1;33m(\u001b[0m\u001b[1;34m'get'\u001b[0m\u001b[1;33m,\u001b[0m \u001b[0murl\u001b[0m\u001b[1;33m,\u001b[0m \u001b[0mparams\u001b[0m\u001b[1;33m=\u001b[0m\u001b[0mparams\u001b[0m\u001b[1;33m,\u001b[0m \u001b[1;33m**\u001b[0m\u001b[0mkwargs\u001b[0m\u001b[1;33m)\u001b[0m\u001b[1;33m\u001b[0m\u001b[1;33m\u001b[0m\u001b[0m\n\u001b[0m\u001b[0;32m     76\u001b[0m \u001b[1;33m\u001b[0m\u001b[0m\n\u001b[0;32m     77\u001b[0m \u001b[1;33m\u001b[0m\u001b[0m\n",
      "\u001b[1;32m~\\AppData\\Local\\Packages\\PythonSoftwareFoundation.Python.3.9_qbz5n2kfra8p0\\LocalCache\\local-packages\\Python39\\site-packages\\requests\\api.py\u001b[0m in \u001b[0;36mrequest\u001b[1;34m(method, url, **kwargs)\u001b[0m\n\u001b[0;32m     59\u001b[0m     \u001b[1;31m# cases, and look like a memory leak in others.\u001b[0m\u001b[1;33m\u001b[0m\u001b[1;33m\u001b[0m\u001b[0m\n\u001b[0;32m     60\u001b[0m     \u001b[1;32mwith\u001b[0m \u001b[0msessions\u001b[0m\u001b[1;33m.\u001b[0m\u001b[0mSession\u001b[0m\u001b[1;33m(\u001b[0m\u001b[1;33m)\u001b[0m \u001b[1;32mas\u001b[0m \u001b[0msession\u001b[0m\u001b[1;33m:\u001b[0m\u001b[1;33m\u001b[0m\u001b[1;33m\u001b[0m\u001b[0m\n\u001b[1;32m---> 61\u001b[1;33m         \u001b[1;32mreturn\u001b[0m \u001b[0msession\u001b[0m\u001b[1;33m.\u001b[0m\u001b[0mrequest\u001b[0m\u001b[1;33m(\u001b[0m\u001b[0mmethod\u001b[0m\u001b[1;33m=\u001b[0m\u001b[0mmethod\u001b[0m\u001b[1;33m,\u001b[0m \u001b[0murl\u001b[0m\u001b[1;33m=\u001b[0m\u001b[0murl\u001b[0m\u001b[1;33m,\u001b[0m \u001b[1;33m**\u001b[0m\u001b[0mkwargs\u001b[0m\u001b[1;33m)\u001b[0m\u001b[1;33m\u001b[0m\u001b[1;33m\u001b[0m\u001b[0m\n\u001b[0m\u001b[0;32m     62\u001b[0m \u001b[1;33m\u001b[0m\u001b[0m\n\u001b[0;32m     63\u001b[0m \u001b[1;33m\u001b[0m\u001b[0m\n",
      "\u001b[1;32m~\\AppData\\Local\\Packages\\PythonSoftwareFoundation.Python.3.9_qbz5n2kfra8p0\\LocalCache\\local-packages\\Python39\\site-packages\\requests\\sessions.py\u001b[0m in \u001b[0;36mrequest\u001b[1;34m(self, method, url, params, data, headers, cookies, files, auth, timeout, allow_redirects, proxies, hooks, stream, verify, cert, json)\u001b[0m\n\u001b[0;32m    540\u001b[0m         }\n\u001b[0;32m    541\u001b[0m         \u001b[0msend_kwargs\u001b[0m\u001b[1;33m.\u001b[0m\u001b[0mupdate\u001b[0m\u001b[1;33m(\u001b[0m\u001b[0msettings\u001b[0m\u001b[1;33m)\u001b[0m\u001b[1;33m\u001b[0m\u001b[1;33m\u001b[0m\u001b[0m\n\u001b[1;32m--> 542\u001b[1;33m         \u001b[0mresp\u001b[0m \u001b[1;33m=\u001b[0m \u001b[0mself\u001b[0m\u001b[1;33m.\u001b[0m\u001b[0msend\u001b[0m\u001b[1;33m(\u001b[0m\u001b[0mprep\u001b[0m\u001b[1;33m,\u001b[0m \u001b[1;33m**\u001b[0m\u001b[0msend_kwargs\u001b[0m\u001b[1;33m)\u001b[0m\u001b[1;33m\u001b[0m\u001b[1;33m\u001b[0m\u001b[0m\n\u001b[0m\u001b[0;32m    543\u001b[0m \u001b[1;33m\u001b[0m\u001b[0m\n\u001b[0;32m    544\u001b[0m         \u001b[1;32mreturn\u001b[0m \u001b[0mresp\u001b[0m\u001b[1;33m\u001b[0m\u001b[1;33m\u001b[0m\u001b[0m\n",
      "\u001b[1;32m~\\AppData\\Local\\Packages\\PythonSoftwareFoundation.Python.3.9_qbz5n2kfra8p0\\LocalCache\\local-packages\\Python39\\site-packages\\requests\\sessions.py\u001b[0m in \u001b[0;36msend\u001b[1;34m(self, request, **kwargs)\u001b[0m\n\u001b[0;32m    695\u001b[0m \u001b[1;33m\u001b[0m\u001b[0m\n\u001b[0;32m    696\u001b[0m         \u001b[1;32mif\u001b[0m \u001b[1;32mnot\u001b[0m \u001b[0mstream\u001b[0m\u001b[1;33m:\u001b[0m\u001b[1;33m\u001b[0m\u001b[1;33m\u001b[0m\u001b[0m\n\u001b[1;32m--> 697\u001b[1;33m             \u001b[0mr\u001b[0m\u001b[1;33m.\u001b[0m\u001b[0mcontent\u001b[0m\u001b[1;33m\u001b[0m\u001b[1;33m\u001b[0m\u001b[0m\n\u001b[0m\u001b[0;32m    698\u001b[0m \u001b[1;33m\u001b[0m\u001b[0m\n\u001b[0;32m    699\u001b[0m         \u001b[1;32mreturn\u001b[0m \u001b[0mr\u001b[0m\u001b[1;33m\u001b[0m\u001b[1;33m\u001b[0m\u001b[0m\n",
      "\u001b[1;32m~\\AppData\\Local\\Packages\\PythonSoftwareFoundation.Python.3.9_qbz5n2kfra8p0\\LocalCache\\local-packages\\Python39\\site-packages\\requests\\models.py\u001b[0m in \u001b[0;36mcontent\u001b[1;34m(self)\u001b[0m\n\u001b[0;32m    834\u001b[0m                 \u001b[0mself\u001b[0m\u001b[1;33m.\u001b[0m\u001b[0m_content\u001b[0m \u001b[1;33m=\u001b[0m \u001b[1;32mNone\u001b[0m\u001b[1;33m\u001b[0m\u001b[1;33m\u001b[0m\u001b[0m\n\u001b[0;32m    835\u001b[0m             \u001b[1;32melse\u001b[0m\u001b[1;33m:\u001b[0m\u001b[1;33m\u001b[0m\u001b[1;33m\u001b[0m\u001b[0m\n\u001b[1;32m--> 836\u001b[1;33m                 \u001b[0mself\u001b[0m\u001b[1;33m.\u001b[0m\u001b[0m_content\u001b[0m \u001b[1;33m=\u001b[0m \u001b[1;34mb''\u001b[0m\u001b[1;33m.\u001b[0m\u001b[0mjoin\u001b[0m\u001b[1;33m(\u001b[0m\u001b[0mself\u001b[0m\u001b[1;33m.\u001b[0m\u001b[0miter_content\u001b[0m\u001b[1;33m(\u001b[0m\u001b[0mCONTENT_CHUNK_SIZE\u001b[0m\u001b[1;33m)\u001b[0m\u001b[1;33m)\u001b[0m \u001b[1;32mor\u001b[0m \u001b[1;34mb''\u001b[0m\u001b[1;33m\u001b[0m\u001b[1;33m\u001b[0m\u001b[0m\n\u001b[0m\u001b[0;32m    837\u001b[0m \u001b[1;33m\u001b[0m\u001b[0m\n\u001b[0;32m    838\u001b[0m         \u001b[0mself\u001b[0m\u001b[1;33m.\u001b[0m\u001b[0m_content_consumed\u001b[0m \u001b[1;33m=\u001b[0m \u001b[1;32mTrue\u001b[0m\u001b[1;33m\u001b[0m\u001b[1;33m\u001b[0m\u001b[0m\n",
      "\u001b[1;32m~\\AppData\\Local\\Packages\\PythonSoftwareFoundation.Python.3.9_qbz5n2kfra8p0\\LocalCache\\local-packages\\Python39\\site-packages\\requests\\models.py\u001b[0m in \u001b[0;36mgenerate\u001b[1;34m()\u001b[0m\n\u001b[0;32m    756\u001b[0m             \u001b[1;32mif\u001b[0m \u001b[0mhasattr\u001b[0m\u001b[1;33m(\u001b[0m\u001b[0mself\u001b[0m\u001b[1;33m.\u001b[0m\u001b[0mraw\u001b[0m\u001b[1;33m,\u001b[0m \u001b[1;34m'stream'\u001b[0m\u001b[1;33m)\u001b[0m\u001b[1;33m:\u001b[0m\u001b[1;33m\u001b[0m\u001b[1;33m\u001b[0m\u001b[0m\n\u001b[0;32m    757\u001b[0m                 \u001b[1;32mtry\u001b[0m\u001b[1;33m:\u001b[0m\u001b[1;33m\u001b[0m\u001b[1;33m\u001b[0m\u001b[0m\n\u001b[1;32m--> 758\u001b[1;33m                     \u001b[1;32mfor\u001b[0m \u001b[0mchunk\u001b[0m \u001b[1;32min\u001b[0m \u001b[0mself\u001b[0m\u001b[1;33m.\u001b[0m\u001b[0mraw\u001b[0m\u001b[1;33m.\u001b[0m\u001b[0mstream\u001b[0m\u001b[1;33m(\u001b[0m\u001b[0mchunk_size\u001b[0m\u001b[1;33m,\u001b[0m \u001b[0mdecode_content\u001b[0m\u001b[1;33m=\u001b[0m\u001b[1;32mTrue\u001b[0m\u001b[1;33m)\u001b[0m\u001b[1;33m:\u001b[0m\u001b[1;33m\u001b[0m\u001b[1;33m\u001b[0m\u001b[0m\n\u001b[0m\u001b[0;32m    759\u001b[0m                         \u001b[1;32myield\u001b[0m \u001b[0mchunk\u001b[0m\u001b[1;33m\u001b[0m\u001b[1;33m\u001b[0m\u001b[0m\n\u001b[0;32m    760\u001b[0m                 \u001b[1;32mexcept\u001b[0m \u001b[0mProtocolError\u001b[0m \u001b[1;32mas\u001b[0m \u001b[0me\u001b[0m\u001b[1;33m:\u001b[0m\u001b[1;33m\u001b[0m\u001b[1;33m\u001b[0m\u001b[0m\n",
      "\u001b[1;32m~\\AppData\\Local\\Packages\\PythonSoftwareFoundation.Python.3.9_qbz5n2kfra8p0\\LocalCache\\local-packages\\Python39\\site-packages\\urllib3\\response.py\u001b[0m in \u001b[0;36mstream\u001b[1;34m(self, amt, decode_content)\u001b[0m\n\u001b[0;32m    626\u001b[0m         \u001b[1;32melse\u001b[0m\u001b[1;33m:\u001b[0m\u001b[1;33m\u001b[0m\u001b[1;33m\u001b[0m\u001b[0m\n\u001b[0;32m    627\u001b[0m             \u001b[1;32mwhile\u001b[0m \u001b[1;32mnot\u001b[0m \u001b[0mis_fp_closed\u001b[0m\u001b[1;33m(\u001b[0m\u001b[0mself\u001b[0m\u001b[1;33m.\u001b[0m\u001b[0m_fp\u001b[0m\u001b[1;33m)\u001b[0m\u001b[1;33m:\u001b[0m\u001b[1;33m\u001b[0m\u001b[1;33m\u001b[0m\u001b[0m\n\u001b[1;32m--> 628\u001b[1;33m                 \u001b[0mdata\u001b[0m \u001b[1;33m=\u001b[0m \u001b[0mself\u001b[0m\u001b[1;33m.\u001b[0m\u001b[0mread\u001b[0m\u001b[1;33m(\u001b[0m\u001b[0mamt\u001b[0m\u001b[1;33m=\u001b[0m\u001b[0mamt\u001b[0m\u001b[1;33m,\u001b[0m \u001b[0mdecode_content\u001b[0m\u001b[1;33m=\u001b[0m\u001b[0mdecode_content\u001b[0m\u001b[1;33m)\u001b[0m\u001b[1;33m\u001b[0m\u001b[1;33m\u001b[0m\u001b[0m\n\u001b[0m\u001b[0;32m    629\u001b[0m \u001b[1;33m\u001b[0m\u001b[0m\n\u001b[0;32m    630\u001b[0m                 \u001b[1;32mif\u001b[0m \u001b[0mdata\u001b[0m\u001b[1;33m:\u001b[0m\u001b[1;33m\u001b[0m\u001b[1;33m\u001b[0m\u001b[0m\n",
      "\u001b[1;32m~\\AppData\\Local\\Packages\\PythonSoftwareFoundation.Python.3.9_qbz5n2kfra8p0\\LocalCache\\local-packages\\Python39\\site-packages\\urllib3\\response.py\u001b[0m in \u001b[0;36mread\u001b[1;34m(self, amt, decode_content, cache_content)\u001b[0m\n\u001b[0;32m    565\u001b[0m \u001b[1;33m\u001b[0m\u001b[0m\n\u001b[0;32m    566\u001b[0m         \u001b[1;32mwith\u001b[0m \u001b[0mself\u001b[0m\u001b[1;33m.\u001b[0m\u001b[0m_error_catcher\u001b[0m\u001b[1;33m(\u001b[0m\u001b[1;33m)\u001b[0m\u001b[1;33m:\u001b[0m\u001b[1;33m\u001b[0m\u001b[1;33m\u001b[0m\u001b[0m\n\u001b[1;32m--> 567\u001b[1;33m             \u001b[0mdata\u001b[0m \u001b[1;33m=\u001b[0m \u001b[0mself\u001b[0m\u001b[1;33m.\u001b[0m\u001b[0m_fp_read\u001b[0m\u001b[1;33m(\u001b[0m\u001b[0mamt\u001b[0m\u001b[1;33m)\u001b[0m \u001b[1;32mif\u001b[0m \u001b[1;32mnot\u001b[0m \u001b[0mfp_closed\u001b[0m \u001b[1;32melse\u001b[0m \u001b[1;34mb\"\"\u001b[0m\u001b[1;33m\u001b[0m\u001b[1;33m\u001b[0m\u001b[0m\n\u001b[0m\u001b[0;32m    568\u001b[0m             \u001b[1;32mif\u001b[0m \u001b[0mamt\u001b[0m \u001b[1;32mis\u001b[0m \u001b[1;32mNone\u001b[0m\u001b[1;33m:\u001b[0m\u001b[1;33m\u001b[0m\u001b[1;33m\u001b[0m\u001b[0m\n\u001b[0;32m    569\u001b[0m                 \u001b[0mflush_decoder\u001b[0m \u001b[1;33m=\u001b[0m \u001b[1;32mTrue\u001b[0m\u001b[1;33m\u001b[0m\u001b[1;33m\u001b[0m\u001b[0m\n",
      "\u001b[1;32m~\\AppData\\Local\\Packages\\PythonSoftwareFoundation.Python.3.9_qbz5n2kfra8p0\\LocalCache\\local-packages\\Python39\\site-packages\\urllib3\\response.py\u001b[0m in \u001b[0;36m_fp_read\u001b[1;34m(self, amt)\u001b[0m\n\u001b[0;32m    531\u001b[0m         \u001b[1;32melse\u001b[0m\u001b[1;33m:\u001b[0m\u001b[1;33m\u001b[0m\u001b[1;33m\u001b[0m\u001b[0m\n\u001b[0;32m    532\u001b[0m             \u001b[1;31m# StringIO doesn't like amt=None\u001b[0m\u001b[1;33m\u001b[0m\u001b[1;33m\u001b[0m\u001b[0m\n\u001b[1;32m--> 533\u001b[1;33m             \u001b[1;32mreturn\u001b[0m \u001b[0mself\u001b[0m\u001b[1;33m.\u001b[0m\u001b[0m_fp\u001b[0m\u001b[1;33m.\u001b[0m\u001b[0mread\u001b[0m\u001b[1;33m(\u001b[0m\u001b[0mamt\u001b[0m\u001b[1;33m)\u001b[0m \u001b[1;32mif\u001b[0m \u001b[0mamt\u001b[0m \u001b[1;32mis\u001b[0m \u001b[1;32mnot\u001b[0m \u001b[1;32mNone\u001b[0m \u001b[1;32melse\u001b[0m \u001b[0mself\u001b[0m\u001b[1;33m.\u001b[0m\u001b[0m_fp\u001b[0m\u001b[1;33m.\u001b[0m\u001b[0mread\u001b[0m\u001b[1;33m(\u001b[0m\u001b[1;33m)\u001b[0m\u001b[1;33m\u001b[0m\u001b[1;33m\u001b[0m\u001b[0m\n\u001b[0m\u001b[0;32m    534\u001b[0m \u001b[1;33m\u001b[0m\u001b[0m\n\u001b[0;32m    535\u001b[0m     \u001b[1;32mdef\u001b[0m \u001b[0mread\u001b[0m\u001b[1;33m(\u001b[0m\u001b[0mself\u001b[0m\u001b[1;33m,\u001b[0m \u001b[0mamt\u001b[0m\u001b[1;33m=\u001b[0m\u001b[1;32mNone\u001b[0m\u001b[1;33m,\u001b[0m \u001b[0mdecode_content\u001b[0m\u001b[1;33m=\u001b[0m\u001b[1;32mNone\u001b[0m\u001b[1;33m,\u001b[0m \u001b[0mcache_content\u001b[0m\u001b[1;33m=\u001b[0m\u001b[1;32mFalse\u001b[0m\u001b[1;33m)\u001b[0m\u001b[1;33m:\u001b[0m\u001b[1;33m\u001b[0m\u001b[1;33m\u001b[0m\u001b[0m\n",
      "\u001b[1;32mC:\\Program Files\\WindowsApps\\PythonSoftwareFoundation.Python.3.9_3.9.3568.0_x64__qbz5n2kfra8p0\\lib\\http\\client.py\u001b[0m in \u001b[0;36mread\u001b[1;34m(self, amt)\u001b[0m\n\u001b[0;32m    461\u001b[0m             \u001b[1;31m# Amount is given, implement using readinto\u001b[0m\u001b[1;33m\u001b[0m\u001b[1;33m\u001b[0m\u001b[0m\n\u001b[0;32m    462\u001b[0m             \u001b[0mb\u001b[0m \u001b[1;33m=\u001b[0m \u001b[0mbytearray\u001b[0m\u001b[1;33m(\u001b[0m\u001b[0mamt\u001b[0m\u001b[1;33m)\u001b[0m\u001b[1;33m\u001b[0m\u001b[1;33m\u001b[0m\u001b[0m\n\u001b[1;32m--> 463\u001b[1;33m             \u001b[0mn\u001b[0m \u001b[1;33m=\u001b[0m \u001b[0mself\u001b[0m\u001b[1;33m.\u001b[0m\u001b[0mreadinto\u001b[0m\u001b[1;33m(\u001b[0m\u001b[0mb\u001b[0m\u001b[1;33m)\u001b[0m\u001b[1;33m\u001b[0m\u001b[1;33m\u001b[0m\u001b[0m\n\u001b[0m\u001b[0;32m    464\u001b[0m             \u001b[1;32mreturn\u001b[0m \u001b[0mmemoryview\u001b[0m\u001b[1;33m(\u001b[0m\u001b[0mb\u001b[0m\u001b[1;33m)\u001b[0m\u001b[1;33m[\u001b[0m\u001b[1;33m:\u001b[0m\u001b[0mn\u001b[0m\u001b[1;33m]\u001b[0m\u001b[1;33m.\u001b[0m\u001b[0mtobytes\u001b[0m\u001b[1;33m(\u001b[0m\u001b[1;33m)\u001b[0m\u001b[1;33m\u001b[0m\u001b[1;33m\u001b[0m\u001b[0m\n\u001b[0;32m    465\u001b[0m         \u001b[1;32melse\u001b[0m\u001b[1;33m:\u001b[0m\u001b[1;33m\u001b[0m\u001b[1;33m\u001b[0m\u001b[0m\n",
      "\u001b[1;32mC:\\Program Files\\WindowsApps\\PythonSoftwareFoundation.Python.3.9_3.9.3568.0_x64__qbz5n2kfra8p0\\lib\\http\\client.py\u001b[0m in \u001b[0;36mreadinto\u001b[1;34m(self, b)\u001b[0m\n\u001b[0;32m    505\u001b[0m         \u001b[1;31m# connection, and the user is reading more bytes than will be provided\u001b[0m\u001b[1;33m\u001b[0m\u001b[1;33m\u001b[0m\u001b[0m\n\u001b[0;32m    506\u001b[0m         \u001b[1;31m# (for example, reading in 1k chunks)\u001b[0m\u001b[1;33m\u001b[0m\u001b[1;33m\u001b[0m\u001b[0m\n\u001b[1;32m--> 507\u001b[1;33m         \u001b[0mn\u001b[0m \u001b[1;33m=\u001b[0m \u001b[0mself\u001b[0m\u001b[1;33m.\u001b[0m\u001b[0mfp\u001b[0m\u001b[1;33m.\u001b[0m\u001b[0mreadinto\u001b[0m\u001b[1;33m(\u001b[0m\u001b[0mb\u001b[0m\u001b[1;33m)\u001b[0m\u001b[1;33m\u001b[0m\u001b[1;33m\u001b[0m\u001b[0m\n\u001b[0m\u001b[0;32m    508\u001b[0m         \u001b[1;32mif\u001b[0m \u001b[1;32mnot\u001b[0m \u001b[0mn\u001b[0m \u001b[1;32mand\u001b[0m \u001b[0mb\u001b[0m\u001b[1;33m:\u001b[0m\u001b[1;33m\u001b[0m\u001b[1;33m\u001b[0m\u001b[0m\n\u001b[0;32m    509\u001b[0m             \u001b[1;31m# Ideally, we would raise IncompleteRead if the content-length\u001b[0m\u001b[1;33m\u001b[0m\u001b[1;33m\u001b[0m\u001b[0m\n",
      "\u001b[1;32mC:\\Program Files\\WindowsApps\\PythonSoftwareFoundation.Python.3.9_3.9.3568.0_x64__qbz5n2kfra8p0\\lib\\socket.py\u001b[0m in \u001b[0;36mreadinto\u001b[1;34m(self, b)\u001b[0m\n\u001b[0;32m    702\u001b[0m         \u001b[1;32mwhile\u001b[0m \u001b[1;32mTrue\u001b[0m\u001b[1;33m:\u001b[0m\u001b[1;33m\u001b[0m\u001b[1;33m\u001b[0m\u001b[0m\n\u001b[0;32m    703\u001b[0m             \u001b[1;32mtry\u001b[0m\u001b[1;33m:\u001b[0m\u001b[1;33m\u001b[0m\u001b[1;33m\u001b[0m\u001b[0m\n\u001b[1;32m--> 704\u001b[1;33m                 \u001b[1;32mreturn\u001b[0m \u001b[0mself\u001b[0m\u001b[1;33m.\u001b[0m\u001b[0m_sock\u001b[0m\u001b[1;33m.\u001b[0m\u001b[0mrecv_into\u001b[0m\u001b[1;33m(\u001b[0m\u001b[0mb\u001b[0m\u001b[1;33m)\u001b[0m\u001b[1;33m\u001b[0m\u001b[1;33m\u001b[0m\u001b[0m\n\u001b[0m\u001b[0;32m    705\u001b[0m             \u001b[1;32mexcept\u001b[0m \u001b[0mtimeout\u001b[0m\u001b[1;33m:\u001b[0m\u001b[1;33m\u001b[0m\u001b[1;33m\u001b[0m\u001b[0m\n\u001b[0;32m    706\u001b[0m                 \u001b[0mself\u001b[0m\u001b[1;33m.\u001b[0m\u001b[0m_timeout_occurred\u001b[0m \u001b[1;33m=\u001b[0m \u001b[1;32mTrue\u001b[0m\u001b[1;33m\u001b[0m\u001b[1;33m\u001b[0m\u001b[0m\n",
      "\u001b[1;31mKeyboardInterrupt\u001b[0m: "
     ]
    }
   ],
   "source": [
    "#browser camera view\n",
    "#http://10.22.1.52/control/faststream.jpg?stream=full&preview&previewsize=320x240&quality=40&fps=4.0&camera=right\n",
    "url='http://'+ip+'/cgi-bin/faststream.jpg'\n",
    "response = requests.get(url, headers=headers, auth=auth)\n",
    "print(response)"
   ]
  },
  {
   "cell_type": "code",
   "execution_count": 8,
   "metadata": {},
   "outputs": [
    {
     "name": "stdout",
     "output_type": "stream",
     "text": [
      "<Response [404]>\n"
     ]
    }
   ],
   "source": [
    "#Message profiles\n",
    "url='http://'+ip+'/api/json/messages/global'\n",
    "response = requests.get(url, headers=headers, auth=auth)\n",
    "print(response)"
   ]
  }
 ],
 "metadata": {
  "kernelspec": {
   "display_name": "Python 3",
   "language": "python",
   "name": "python3"
  },
  "language_info": {
   "codemirror_mode": {
    "name": "ipython",
    "version": 3
   },
   "file_extension": ".py",
   "mimetype": "text/x-python",
   "name": "python",
   "nbconvert_exporter": "python",
   "pygments_lexer": "ipython3",
   "version": "3.9.13"
  },
  "orig_nbformat": 4,
  "vscode": {
   "interpreter": {
    "hash": "efc0f16f2a4cd47b402ccb23be0e3e56be1e6aa26099b86611c68d1241ae826d"
   }
  }
 },
 "nbformat": 4,
 "nbformat_minor": 2
}
