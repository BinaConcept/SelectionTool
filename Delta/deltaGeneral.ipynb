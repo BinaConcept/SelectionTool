{
 "cells": [
  {
   "attachments": {},
   "cell_type": "markdown",
   "metadata": {},
   "source": [
    "### Mobotix AI\n",
    "\n",
    "Install http libary & ip"
   ]
  },
  {
   "cell_type": "code",
   "execution_count": 1,
   "metadata": {},
   "outputs": [
    {
     "name": "stdout",
     "output_type": "stream",
     "text": [
      "Requirement already satisfied: requests in c:\\users\\arsoft\\appdata\\local\\packages\\pythonsoftwarefoundation.python.3.9_qbz5n2kfra8p0\\localcache\\local-packages\\python39\\site-packages (2.26.0)\n",
      "Requirement already satisfied: urllib3<1.27,>=1.21.1 in c:\\users\\arsoft\\appdata\\local\\packages\\pythonsoftwarefoundation.python.3.9_qbz5n2kfra8p0\\localcache\\local-packages\\python39\\site-packages (from requests) (1.26.15)\n",
      "Requirement already satisfied: certifi>=2017.4.17 in c:\\users\\arsoft\\appdata\\local\\packages\\pythonsoftwarefoundation.python.3.9_qbz5n2kfra8p0\\localcache\\local-packages\\python39\\site-packages (from requests) (2022.12.7)\n",
      "Requirement already satisfied: charset-normalizer~=2.0.0 in c:\\users\\arsoft\\appdata\\local\\packages\\pythonsoftwarefoundation.python.3.9_qbz5n2kfra8p0\\localcache\\local-packages\\python39\\site-packages (from requests) (2.0.6)\n",
      "Requirement already satisfied: idna<4,>=2.5 in c:\\users\\arsoft\\appdata\\local\\packages\\pythonsoftwarefoundation.python.3.9_qbz5n2kfra8p0\\localcache\\local-packages\\python39\\site-packages (from requests) (2.10)\n"
     ]
    },
    {
     "name": "stderr",
     "output_type": "stream",
     "text": [
      "WARNING: Ignoring invalid distribution -rotobuf (c:\\users\\arsoft\\appdata\\local\\packages\\pythonsoftwarefoundation.python.3.9_qbz5n2kfra8p0\\localcache\\local-packages\\python39\\site-packages)\n",
      "WARNING: Ignoring invalid distribution -rotobuf (c:\\users\\arsoft\\appdata\\local\\packages\\pythonsoftwarefoundation.python.3.9_qbz5n2kfra8p0\\localcache\\local-packages\\python39\\site-packages)\n",
      "\n",
      "[notice] A new release of pip is available: 23.1.2 -> 23.2.1\n",
      "[notice] To update, run: C:\\Users\\ArSoft\\AppData\\Local\\Microsoft\\WindowsApps\\PythonSoftwareFoundation.Python.3.9_qbz5n2kfra8p0\\python.exe -m pip install --upgrade pip\n"
     ]
    }
   ],
   "source": [
    "! pip install requests\n",
    "\n",
    "import requests\n",
    "#B11\n",
    "#ip='192.168.24.107'\n",
    "ip='192.168.0.11'\n",
    "headers = {'Content-type': 'application/json'}\n",
    "auth = ('admin','meinsm123')\n"
   ]
  },
  {
   "attachments": {},
   "cell_type": "markdown",
   "metadata": {},
   "source": [
    "Authenticator Mobotix AI"
   ]
  },
  {
   "attachments": {},
   "cell_type": "markdown",
   "metadata": {},
   "source": [
    "Admin menu"
   ]
  },
  {
   "cell_type": "code",
   "execution_count": null,
   "metadata": {},
   "outputs": [],
   "source": [
    "# admin sectionlist\n",
    "url='http://'+ip+'/admin/control?list'\n",
    "response = requests.get(url, auth=auth)\n",
    "data = response.text\n",
    "print(data)"
   ]
  },
  {
   "cell_type": "code",
   "execution_count": null,
   "metadata": {},
   "outputs": [],
   "source": [
    "#http://CamIP/control/rcontrol?list http://130.238.118.68/admin/remoteconfig\n",
    "url='http://'+ip+'/admin/remoteconfig'\n",
    "response = requests.get(url, auth=auth)\n",
    "data = response.text\n",
    "print(data)"
   ]
  },
  {
   "attachments": {},
   "cell_type": "markdown",
   "metadata": {},
   "source": [
    "Camera name"
   ]
  },
  {
   "cell_type": "code",
   "execution_count": null,
   "metadata": {},
   "outputs": [],
   "source": [
    "#http://<camera ip>/control/rcontrol?action=ledson&time=5\n",
    "url='http://'+ip+'/control/rcontrol?action=etherconfig&Camera_Name=tets'\n",
    "response = requests.get(url, headers=headers, auth=auth)\n",
    "data = response.text\n",
    "print(response)"
   ]
  },
  {
   "attachments": {},
   "cell_type": "markdown",
   "metadata": {},
   "source": [
    "Store"
   ]
  },
  {
   "cell_type": "code",
   "execution_count": null,
   "metadata": {},
   "outputs": [],
   "source": [
    "url='http://'+ip+'/admin/rcontrol?action=storeconfig'\n",
    "response = requests.get(url, headers=headers, auth=auth)\n",
    "data = response.text\n",
    "print(data)"
   ]
  },
  {
   "attachments": {},
   "cell_type": "markdown",
   "metadata": {},
   "source": [
    "Loading logo component"
   ]
  },
  {
   "cell_type": "code",
   "execution_count": null,
   "metadata": {},
   "outputs": [],
   "source": [
    "url='http://'+ip+'/admin/control?list&section=logo'\n",
    "response = requests.get(url, headers=headers, auth=auth)\n",
    "data = response.text\n",
    "print(data)"
   ]
  },
  {
   "attachments": {},
   "cell_type": "markdown",
   "metadata": {},
   "source": [
    "Home video logo enable/disable"
   ]
  },
  {
   "cell_type": "markdown",
   "metadata": {},
   "source": []
  },
  {
   "cell_type": "code",
   "execution_count": null,
   "metadata": {},
   "outputs": [],
   "source": [
    "# Display enable or disable\n",
    "\n",
    "# display='enable'\n",
    "display='disable'\n",
    "url='http://'+ip+'/admin/control?set&section=logo&display='+display\n",
    "requests.get(url,auth=auth)\n",
    "# print(response) \n",
    "# print(requests.get(url,auth=auth))\n",
    "# print(url)"
   ]
  },
  {
   "attachments": {},
   "cell_type": "markdown",
   "metadata": {},
   "source": [
    "Setup menu"
   ]
  },
  {
   "cell_type": "code",
   "execution_count": null,
   "metadata": {},
   "outputs": [],
   "source": []
  },
  {
   "attachments": {},
   "cell_type": "markdown",
   "metadata": {},
   "source": [
    "Setup-list"
   ]
  },
  {
   "cell_type": "code",
   "execution_count": null,
   "metadata": {},
   "outputs": [],
   "source": [
    "# admin sectionlist\n",
    "url='http://'+ip+'/control/control?list'\n",
    "response = requests.get(url, headers=headers, auth=auth)\n",
    "data = response.text\n",
    "print(data)"
   ]
  },
  {
   "attachments": {},
   "cell_type": "markdown",
   "metadata": {},
   "source": [
    "Change Image analysis events"
   ]
  },
  {
   "cell_type": "code",
   "execution_count": null,
   "metadata": {},
   "outputs": [],
   "source": [
    "url='http://'+ip+'/control/control?list&section=eventcontrol'\n",
    "response = requests.get(url, headers=headers, auth=auth)\n",
    "data = response.text\n",
    "print(data)"
   ]
  },
  {
   "attachments": {},
   "cell_type": "markdown",
   "metadata": {},
   "source": [
    "url='http://'+ip+'/control/control?section=event_ima&ima'\n",
    "response = requests.get(url, headers=headers, auth=auth)\n",
    "data = response.text\n",
    "print(data)"
   ]
  },
  {
   "cell_type": "code",
   "execution_count": null,
   "metadata": {},
   "outputs": [],
   "source": [
    "url='http://'+ip+'/control/control?read&section=eventcontrol&motion_area'\n",
    "response = requests.get(url, headers=headers, auth=auth)\n",
    "data = response.text\n",
    "print(data)\n"
   ]
  },
  {
   "attachments": {},
   "cell_type": "markdown",
   "metadata": {},
   "source": [
    "Load all object image name"
   ]
  },
  {
   "cell_type": "code",
   "execution_count": 2,
   "metadata": {},
   "outputs": [
    {
     "name": "stdout",
     "output_type": "stream",
     "text": [
      "ima=VM:_profilename=VM:ima_dead=5:ima_sens=vm:activity_level=33:activity_area=0,0,0,1280,960:activity_directions=Left;Right;Up;Down:ot_type=corridor:ot_corridor_list=:ot_time_value=30:ot_speed_value=4:ot_restricted_area=0,0,0,1280,960:ot_restricted_area_color=0xFFFF00:ot_restricted_area_transparency=70:vm_list=\n",
      "ima=VM2:_profilename=VM2:ima_dead=5:ima_sens=vm:activity_level=33:activity_area=0,0,0,1280,960:activity_directions=Left;Right;Up;Down:ot_type=corridor:ot_corridor_list=:ot_time_value=30:ot_speed_value=4:ot_restricted_area=0,0,0,1280,960:ot_restricted_area_color=0xFFFF00:ot_restricted_area_transparency=70:vm_list=\n",
      "ima=AS:_profilestate=i:_profilename=AS:ima_dead=5:ima_sens=vm:activity_level=33:activity_area=:activity_directions=Left;Right;Up;Down:ot_type=corridor:ot_corridor_list=:ot_time_value=30:ot_speed_value=4:ot_restricted_area=0,0,0,1280,960:ot_restricted_area_color=0xFFFF00:ot_restricted_area_transparency=70:vm_list=6\n",
      "ima=ima_63dce9e3:_profilename=M3:ima_dead=5:ima_sens=vm:activity_level=33:activity_area=:activity_directions=Left;Right;Up;Down:ot_type=corridor:ot_corridor_list=:ot_time_value=30:ot_speed_value=4:ot_restricted_area=0,0,0,1280,960:ot_restricted_area_color=0xFFFF00:ot_restricted_area_transparency=70:vm_list=\n",
      "\n"
     ]
    }
   ],
   "source": [
    "url='http://'+ip+'/control/control?read&section=event_ima&ima'\n",
    "response = requests.get(url, headers=headers, auth=auth)\n",
    "data = response.text\n",
    "print(data)\n"
   ]
  },
  {
   "attachments": {},
   "cell_type": "markdown",
   "metadata": {},
   "source": [
    "Change resolutions"
   ]
  },
  {
   "cell_type": "code",
   "execution_count": 3,
   "metadata": {},
   "outputs": [
    {
     "name": "stdout",
     "output_type": "stream",
     "text": [
      "ima=ima_63dce9e3\n",
      "_profilename=M3\n",
      "ima_dead=5\n",
      "ima_sens=vm\n",
      "activity_level=33\n",
      "activity_area=\n",
      "activity_directions=Left;Right;Up;Down\n",
      "ot_type=corridor\n",
      "ot_corridor_list=\n",
      "ot_time_value=30\n",
      "ot_speed_value=4\n",
      "ot_restricted_area=0,0,0,1280,960\n",
      "ot_restricted_area_color=0xFFFF00\n",
      "ot_restricted_area_transparency=70\n",
      "vm_list=6\n",
      "\n"
     ]
    }
   ],
   "source": [
    "url = f'http://{ip}/control/control?section=event_ima&set_profile=ima:ima_63dce9e3&vm_list=6'\n",
    "response = requests.get(url, headers=headers, auth=auth)\n",
    "data = response.text\n",
    "print(data)\n"
   ]
  },
  {
   "cell_type": "code",
   "execution_count": 45,
   "metadata": {},
   "outputs": [
    {
     "name": "stdout",
     "output_type": "stream",
     "text": [
      "ima=AS\n",
      "_profilestate=i                         # , i\n",
      "_profilename=AS                         # (profile name)\n",
      "ima_dead=5                              # 0 .. 3600 \n",
      "ima_sens=vm                             # ot, as, vm\n",
      "activity_level=33                       # 0 .. 99 \n",
      "activity_area=                          # (encoded string constant) \n",
      "activity_directions=Left;Right;Up;Down  # Left, Right, Up, Down\n",
      "ot_type=corridor                        # corridor, time, wrong, uturn, turn, speed, restricted\n",
      "ot_corridor_list=                       # (string constant) \n",
      "ot_time_value=30                        # 1 .. 300 \n",
      "ot_speed_value=4                        # 1 .. 6 \n",
      "ot_restricted_area=0,0,0,1280,960       # (string constant) \n",
      "ot_restricted_area_color=0xFFFF00       # off, 0x000000, 0x800000, 0x008000, 0x808000, 0x000080, 0x800080, 0x008080, 0x808080, 0xC0C0C0, 0xFF0000, 0x00FF00, 0xFFFF00, 0x0000FF, 0xFF00FF, 0x00FFFF, 0xFFFFFF\n",
      "ot_restricted_area_transparency=70      # 0 .. 100 \n",
      "vm_list=6                               # (string constant) \n",
      "#-P ima \"\": \n",
      "#-P ima_dead \"Event Dead Time\": \n",
      "#-E ima_dead \"Time to wait [0..3600 s] before the event can trigger anew.\"\n",
      "#-P ima_sens \"Event Sensor Type\": \"Behavioral Detection\", \"MxActivitySensor\", \"Video Motion\"\n",
      "#-H ima_sens \"Event Sensor Type\"\n",
      "#-E ima_sens \"Choose the image analysis sensor.\"\n",
      "#-P activity_level \"Set Detection Threshold\": \n",
      "#-E activity_level \"Choose detection threshold for this profile [0..99].\"\n",
      "#-P activity_area \"Edit Detection Area\": \n",
      "#-E activity_area \"For a detailed description of window definitions and additional variables, please refer to the <a href='/help/help?activitysensor#AreaDefinition' onclick='openExtNoDeko('/help/help?activitysensor#AreaDefinition',windowname_help); return false;' target='_blank'>help page</a>.<br><br><b>Detection areas can also be defined by Shift-click+click in the live image and pressing <i>Add Rectangle</i>.</b><br><!--Highlight area-->\"\n",
      "#-P activity_directions \"Select Direction Triggers\": \"Left\", \"Right\", \"Up\", \"Down\"\n",
      "#-E activity_directions \"Choose directions which cause an alarm.\"\n",
      "#-P ot_type \"Alarm Type\": \"Corridor\", \"Duration of stay\", \"Opposite Direction\", \"U-Turn\", \"Turn\", \"Speed\", \"Restricted Area\"\n",
      "#-E ot_type \"Select the alarm type.\"\n",
      "#-P ot_corridor_list \"Corridor List\": \n",
      "#-E ot_corridor_list \"List corridors (by their ID). If one of the listed corridors is crossed by an object, this event is triggered. Entries are separated by commas, and can consist of single corridors or ranges (e.g. '1,2,4-7'). The ranges can be open ('3-' or '-4'). Leaving this field empty selects all corridors.\"\n",
      "#-P ot_time_value \"Maximum Abidance Time\": \n",
      "#-E ot_time_value \"Set the maximum abidance time [1..300 s].\"\n",
      "#-P ot_speed_value \"Speed threshold\": \n",
      "#-E ot_speed_value \"Set the speed threshold in [1..6] m/s. Alarm will trigger if an object moves faster than the threshold speed.\"\n",
      "#-P ot_restricted_area \"Edit Restricted Area\": \n",
      "#-E ot_restricted_area \"For a detailed description of window definitions and additional variables, please refer to the <a href='/help/help?behavioraldetection#RestrictedAreaDefinition' onclick='openExtNoDeko('/help/help?behavioraldetection#RestrictedAreaDefinition',windowname_help); return false;' target='_blank'>help page</a>.<br><br><b>Restricted areas can also be defined by Shift-click+click in the live image and pressing <i>Add Rectangle</i>.</b><br>\"\n",
      "#-P ot_restricted_area_color \"Restricted Area Color\": \"Off\", \"Black\", \"Maroon\", \"Green\", \"Olive\", \"Navy\", \"Purple\", \"Teal\", \"Gray\", \"Silver\", \"Red\", \"Lime\", \"Yellow\", \"Blue\", \"Fuchsia\", \"Aqua\", \"White\"\n",
      "#-E ot_restricted_area_color \"Select color used for the restricted area.\"\n",
      "#-P ot_restricted_area_transparency \"Restricted Area Transparency\": \n",
      "#-E ot_restricted_area_transparency \"Select transparency used for the restricted area.\"\n",
      "#-P vm_list \"Window List\": \n",
      "#-E vm_list \"List VM windows (by their ID). If one of the listed windows detects motion, this event is triggered. Entries are separated by commas, and can consist of single windows or ranges (e.g. '1,2,4-7'). The ranges can be open ('3-' or '-4'). Leaving this field empty selects all windows.<!--Highlight selected-->\"\n",
      "\n"
     ]
    }
   ],
   "source": [
    "url='http://'+ip+'/control/control?section=event_ima&read_profile=ima:AS&read_profile=vm_list'\n",
    "response = requests.get(url, headers=headers, auth=auth)\n",
    "data = response.text\n",
    "print(data)"
   ]
  },
  {
   "cell_type": "code",
   "execution_count": null,
   "metadata": {},
   "outputs": [],
   "source": [
    "# SETUP\n",
    "# Image control\n",
    "# General Image Setting\n",
    "arrRes= ['320x240', '640x480', '800x600', '1024x768', '1280x720', '1280x960', '1920x1080', '2048x1536', '2592x1944', '3072x2048', 'customize']\n",
    "resolutions=arrRes[3]\n",
    "url='http://'+ip+'/control/control?set&section=imagecontrol&size='+resolutions\n",
    "response = requests.get(url, headers=headers, auth=auth)\n",
    "print(response)"
   ]
  },
  {
   "attachments": {},
   "cell_type": "markdown",
   "metadata": {},
   "source": [
    "Create motion line"
   ]
  },
  {
   "cell_type": "code",
   "execution_count": null,
   "metadata": {},
   "outputs": [],
   "source": [
    "# SETUP\n",
    "# Event control\n",
    "# Image analysis events\n",
    "# Edit\n",
    "# Video motion definitions motion_area=$noiseadjust=1%0A$postfilter=1%0A$limit=100%0A0,poly=693x796/967x587/920x254/571x218,a=5,am=90,s=0,id=2%0A\n",
    "size=['0,140,330,200,300,s=20,a=25,id=1,col=blue', '0,280,660,400,600,s=20,a=25,id=2,col=blue']\n",
    "url='http://'+ip+'/control/control?set&section=eventcontrol&motion_area='+size[1]\n",
    "response = requests.get(url, headers=headers, auth=auth)\n",
    "print(response)"
   ]
  },
  {
   "attachments": {},
   "cell_type": "markdown",
   "metadata": {},
   "source": [
    "Image out view (CGI parameters)"
   ]
  },
  {
   "cell_type": "code",
   "execution_count": null,
   "metadata": {},
   "outputs": [],
   "source": [
    "#circel image\n",
    "url='http://'+ip+'/record/current.jpg'\n",
    "response = requests.get(url, headers=headers, auth=auth)\n",
    "print(response)\n"
   ]
  },
  {
   "cell_type": "code",
   "execution_count": null,
   "metadata": {},
   "outputs": [],
   "source": [
    "#panoramische image\n",
    "url='http://'+ip+'/cgi-bin/image.jpg'\n",
    "response = requests.get(url, headers=headers, auth=auth)\n",
    "print(response)"
   ]
  },
  {
   "cell_type": "code",
   "execution_count": null,
   "metadata": {},
   "outputs": [],
   "source": [
    "#browser camera view\n",
    "#http://10.22.1.52/control/faststream.jpg?stream=full&preview&previewsize=320x240&quality=40&fps=4.0&camera=right\n",
    "url='http://'+ip+'/cgi-bin/faststream.jpg'\n",
    "response = requests.get(url, headers=headers, auth=auth)\n",
    "print(response)"
   ]
  },
  {
   "cell_type": "code",
   "execution_count": null,
   "metadata": {},
   "outputs": [],
   "source": [
    "#Message profiles\n",
    "url='http://'+ip+'/api/json/messages/global'\n",
    "response = requests.get(url, headers=headers, auth=auth)\n",
    "print(response)"
   ]
  }
 ],
 "metadata": {
  "kernelspec": {
   "display_name": "Python 3",
   "language": "python",
   "name": "python3"
  },
  "language_info": {
   "codemirror_mode": {
    "name": "ipython",
    "version": 3
   },
   "file_extension": ".py",
   "mimetype": "text/x-python",
   "name": "python",
   "nbconvert_exporter": "python",
   "pygments_lexer": "ipython3",
   "version": "3.9.13"
  },
  "orig_nbformat": 4,
  "vscode": {
   "interpreter": {
    "hash": "efc0f16f2a4cd47b402ccb23be0e3e56be1e6aa26099b86611c68d1241ae826d"
   }
  }
 },
 "nbformat": 4,
 "nbformat_minor": 2
}
