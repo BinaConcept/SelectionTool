{
 "cells": [
  {
   "attachments": {},
   "cell_type": "markdown",
   "metadata": {},
   "source": [
    "Default image for this application."
   ]
  },
  {
   "attachments": {},
   "cell_type": "markdown",
   "metadata": {},
   "source": [
    "<img src=\"../src/assets/current.png\" style=\"height: 350px\"/>"
   ]
  },
  {
   "attachments": {},
   "cell_type": "markdown",
   "metadata": {},
   "source": [
    "Picture make sampling ve Quantization example."
   ]
  },
  {
   "attachments": {},
   "cell_type": "markdown",
   "metadata": {},
   "source": [
    "Libary loading"
   ]
  },
  {
   "cell_type": "code",
   "execution_count": 2,
   "metadata": {},
   "outputs": [],
   "source": [
    "import matplotlib.pyplot as plt\n",
    "import numpy as np\n",
    "from PIL import Image"
   ]
  },
  {
   "attachments": {},
   "cell_type": "markdown",
   "metadata": {},
   "source": [
    "Image wraping"
   ]
  },
  {
   "cell_type": "code",
   "execution_count": 1,
   "metadata": {},
   "outputs": [
    {
     "data": {
      "text/plain": [
       "-1"
      ]
     },
     "execution_count": 1,
     "metadata": {},
     "output_type": "execute_result"
    }
   ],
   "source": [
    "import cv2\n",
    "import numpy as np\n",
    " \n",
    "img = cv2.imread('../src/assets/current.png')\n",
    " \n",
    "# Pixel values in original image\n",
    "red_point = [147,150]\n",
    "green_point = [256,182]\n",
    "black_point = [119,453]\n",
    "blue_point = [231,460]\n",
    " \n",
    "# Create point matrix\n",
    "point_matrix = np.float32([red_point,green_point,black_point, blue_point])\n",
    " \n",
    "# Draw circle for each point\n",
    "cv2.circle(img,(red_point[0],red_point[1]),10,(0,0,255),cv2.FILLED)\n",
    "cv2.circle(img,(green_point[0],green_point[1]),10,(0,255,0),cv2.FILLED)\n",
    "cv2.circle(img,(blue_point[0],blue_point[1]),10,(255,0,0),cv2.FILLED)\n",
    "cv2.circle(img,(black_point[0],black_point[1]),10,(0,0,0),cv2.FILLED)\n",
    " \n",
    "# Output image size\n",
    "width, height = 250,350\n",
    " \n",
    "# Desired points value in output images\n",
    "converted_red_pixel_value = [0,0]\n",
    "converted_green_pixel_value = [width,0]\n",
    "converted_black_pixel_value = [0,height]\n",
    "converted_blue_pixel_value = [width,height]\n",
    " \n",
    "# Convert points\n",
    "converted_points = np.float32([converted_red_pixel_value,converted_green_pixel_value,\n",
    "                               converted_black_pixel_value,converted_blue_pixel_value])\n",
    " \n",
    "# perspective transform\n",
    "perspective_transform = cv2.getPerspectiveTransform(point_matrix,converted_points)\n",
    "img_Output = cv2.warpPerspective(img,perspective_transform,(width,height))\n",
    " \n",
    "cv2.imshow(\"Original Image\", img)\n",
    "cv2.imshow(\"Output Image\", img_Output)\n",
    "cv2.waitKey(0)"
   ]
  },
  {
   "cell_type": "code",
   "execution_count": 1,
   "metadata": {},
   "outputs": [],
   "source": [
    "import cv2\n",
    "import numpy as np\n",
    "import math\n",
    "\n",
    "img = cv2.imread('../src/assets/current.png', cv2.IMREAD_GRAYSCALE)\n",
    "rows, cols = img.shape\n",
    "\n",
    "#####################\n",
    "# Vertical wave\n",
    "\n",
    "img_output = np.zeros(img.shape, dtype=img.dtype)\n",
    "\n",
    "for i in range(rows):\n",
    "    for j in range(cols):\n",
    "        offset_x = int(25.0 * math.sin(2 * 3.14 * i / 180))\n",
    "        offset_y = 0\n",
    "        if j+offset_x < rows:\n",
    "            img_output[i,j] = img[i,(j+offset_x)%cols]\n",
    "        else:\n",
    "            img_output[i,j] = 0\n",
    "\n",
    "cv2.imshow('Input', img)\n",
    "cv2.imshow('Vertical wave', img_output)\n",
    "\n"
   ]
  },
  {
   "cell_type": "code",
   "execution_count": null,
   "metadata": {},
   "outputs": [],
   "source": [
    "#####################\n",
    "# Horizontal wave\n",
    "\n",
    "img_output = np.zeros(img.shape, dtype=img.dtype)\n",
    "\n",
    "for i in range(rows):\n",
    "    for j in range(cols):\n",
    "        offset_x = 0\n",
    "        offset_y = int(16.0 * math.sin(2 * 3.14 * j / 150))\n",
    "        if i+offset_y < rows:\n",
    "            img_output[i,j] = img[(i+offset_y)%rows,j]\n",
    "        else:\n",
    "            img_output[i,j] = 0\n",
    "\n",
    "cv2.imshow('Horizontal wave', img_output)\n",
    "\n"
   ]
  },
  {
   "cell_type": "code",
   "execution_count": null,
   "metadata": {},
   "outputs": [],
   "source": [
    "img_output = np.zeros(img.shape, dtype=img.dtype)\n",
    "\n",
    "for i in range(rows):\n",
    "    for j in range(cols):\n",
    "        offset_x = int(20.0 * math.sin(2 * 3.14 * i / 150))\n",
    "        offset_y = int(20.0 * math.cos(2 * 3.14 * j / 150))\n",
    "        if i+offset_y < rows and j+offset_x < cols:\n",
    "            img_output[i,j] = img[(i+offset_y)%rows,(j+offset_x)%cols]\n",
    "        else:\n",
    "            img_output[i,j] = 0\n",
    "\n",
    "cv2.imshow('Multidirectional wave', img_output)\n",
    "\n"
   ]
  },
  {
   "cell_type": "code",
   "execution_count": null,
   "metadata": {},
   "outputs": [],
   "source": [
    "#####################\n",
    "# Concave effect\n",
    "\n",
    "img_output = np.zeros(img.shape, dtype=img.dtype)\n",
    "\n",
    "for i in range(rows):\n",
    "    for j in range(cols):\n",
    "        offset_x = int(128.0 * math.sin(2 * 3.14 * i / (2*cols)))\n",
    "        offset_y = 0\n",
    "        if j+offset_x < cols:\n",
    "            img_output[i,j] = img[i,(j+offset_x)%cols]\n",
    "        else:\n",
    "            img_output[i,j] = 0\n",
    "\n",
    "cv2.imshow('Concave', img_output)\n",
    "\n",
    "cv2.waitKey()"
   ]
  }
 ],
 "metadata": {
  "kernelspec": {
   "display_name": "Python 3",
   "language": "python",
   "name": "python3"
  },
  "language_info": {
   "codemirror_mode": {
    "name": "ipython",
    "version": 3
   },
   "file_extension": ".py",
   "mimetype": "text/x-python",
   "name": "python",
   "nbconvert_exporter": "python",
   "pygments_lexer": "ipython3",
   "version": "3.9.13"
  },
  "orig_nbformat": 4
 },
 "nbformat": 4,
 "nbformat_minor": 2
}
